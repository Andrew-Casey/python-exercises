{
 "cells": [
  {
   "cell_type": "code",
   "execution_count": 2,
   "id": "f1bee2fe",
   "metadata": {},
   "outputs": [
    {
     "name": "stdout",
     "output_type": "stream",
     "text": [
      "hello jupyter notebook\n"
     ]
    }
   ],
   "source": [
    "print (\"hello jupyter notebook\")\n"
   ]
  },
  {
   "cell_type": "code",
   "execution_count": 3,
   "id": "260d261b",
   "metadata": {},
   "outputs": [
    {
     "name": "stdout",
     "output_type": "stream",
     "text": [
      "There are many keyboard shortcuts in jupyter notebook. For instance shift + enter will run this cell\n"
     ]
    }
   ],
   "source": [
    "print (\"There are many keyboard shortcuts in jupyter notebook. For instance shift + enter will run this cell\")"
   ]
  },
  {
   "cell_type": "code",
   "execution_count": 4,
   "id": "f59cbc81",
   "metadata": {},
   "outputs": [
    {
     "name": "stdout",
     "output_type": "stream",
     "text": [
      "Control (aka the command key on a mac) + S, will save and checkpoint\n"
     ]
    }
   ],
   "source": [
    "print (\"Control (aka the command key on a mac) + S, will save and checkpoint\")"
   ]
  },
  {
   "cell_type": "code",
   "execution_count": 5,
   "id": "9e8b2afe",
   "metadata": {},
   "outputs": [
    {
     "name": "stdout",
     "output_type": "stream",
     "text": [
      "On a mac the option key acts as the alt key so, alt (option) + enter runs the current cell and inserts below\n"
     ]
    }
   ],
   "source": [
    "print (\"On a mac the option key acts as the alt key so, alt (option) + enter runs the current cell and inserts below\")"
   ]
  },
  {
   "cell_type": "code",
   "execution_count": 1,
   "id": "2ad9b65b",
   "metadata": {},
   "outputs": [
    {
     "name": "stdout",
     "output_type": "stream",
     "text": [
      "When in the terminal, use cntrl + c to quit the jupyter notebook\n"
     ]
    }
   ],
   "source": [
    "print (\"When in the terminal, use cntrl + c to quit the jupyter notebook\")"
   ]
  }
 ],
 "metadata": {
  "kernelspec": {
   "display_name": "Python 3 (ipykernel)",
   "language": "python",
   "name": "python3"
  },
  "language_info": {
   "codemirror_mode": {
    "name": "ipython",
    "version": 3
   },
   "file_extension": ".py",
   "mimetype": "text/x-python",
   "name": "python",
   "nbconvert_exporter": "python",
   "pygments_lexer": "ipython3",
   "version": "3.9.13"
  }
 },
 "nbformat": 4,
 "nbformat_minor": 5
}
