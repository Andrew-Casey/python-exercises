{
 "cells": [
  {
   "cell_type": "markdown",
   "id": "f8f6a579",
   "metadata": {},
   "source": [
    "# Imports"
   ]
  },
  {
   "cell_type": "markdown",
   "id": "b1009232",
   "metadata": {},
   "source": [
    "What are they: Python code in one module gains access to the code in another module by the process of importing it"
   ]
  },
  {
   "cell_type": "markdown",
   "id": "33847a5f",
   "metadata": {},
   "source": [
    "Why do we care? Allows you to access a wide-range of useful functions! "
   ]
  },
  {
   "cell_type": "markdown",
   "id": "86f1a3c6",
   "metadata": {},
   "source": [
    "### Terminology\n",
    "\n",
    "**Module:** a file with a .py extension that contains functions and variables\n",
    "\n",
    "**Package:** a directory with modules in it\n",
    "\n",
    "**Library:** a collection of related modules and packages\n",
    "\n",
    "**Python Package Index:** also known as PyPI, a repository of community developed Python packages\n",
    "\n",
    "**Conda:** also known as Anaconda is a package manager"
   ]
  },
  {
   "cell_type": "markdown",
   "id": "98ca0f6a",
   "metadata": {},
   "source": [
    "### Where do we import from\n",
    "**Python Standard Library:** these come with python so we don't need to install them\n",
    "\n",
    "**3rd Party Packages:** think things we conda install or pip install\n",
    "\n",
    "**Our Own Code:** these are functions and modules we make!  "
   ]
  },
  {
   "cell_type": "markdown",
   "id": "2ae61a03",
   "metadata": {},
   "source": [
    "## Let's Import!"
   ]
  },
  {
   "cell_type": "markdown",
   "id": "d873b4c8",
   "metadata": {},
   "source": [
    "- FORMAT: import [module_name]\n",
    "\n",
    "- typically found at the top of notebooks and py files"
   ]
  },
  {
   "cell_type": "markdown",
   "id": "a7d02b44",
   "metadata": {},
   "source": [
    "## Python Standard Library \n",
    "https://docs.python.org/3/library/\n",
    "\n",
    "- come installed with python"
   ]
  },
  {
   "cell_type": "markdown",
   "id": "ed9d77d6",
   "metadata": {},
   "source": [
    "#### import math module"
   ]
  },
  {
   "cell_type": "markdown",
   "id": "6043d1f2",
   "metadata": {},
   "source": [
    "https://docs.python.org/3/library/math.html"
   ]
  },
  {
   "cell_type": "code",
   "execution_count": 8,
   "id": "30d199ca",
   "metadata": {},
   "outputs": [],
   "source": [
    "import math"
   ]
  },
  {
   "cell_type": "code",
   "execution_count": 13,
   "id": "d3ff040b",
   "metadata": {},
   "outputs": [],
   "source": [
    "import math"
   ]
  },
  {
   "cell_type": "code",
   "execution_count": null,
   "id": "fb1f0f4a",
   "metadata": {},
   "outputs": [],
   "source": []
  },
  {
   "cell_type": "markdown",
   "id": "5a8a8328",
   "metadata": {},
   "source": [
    "#### using the math module, get the variable pi"
   ]
  },
  {
   "cell_type": "markdown",
   "id": "3d56ec44",
   "metadata": {},
   "source": [
    "- module_name.constant\n",
    "- module_name.function"
   ]
  },
  {
   "cell_type": "code",
   "execution_count": 10,
   "id": "b7e7740a",
   "metadata": {},
   "outputs": [
    {
     "data": {
      "text/plain": [
       "3.141592653589793"
      ]
     },
     "execution_count": 10,
     "metadata": {},
     "output_type": "execute_result"
    }
   ],
   "source": [
    "math.pi"
   ]
  },
  {
   "cell_type": "code",
   "execution_count": 6,
   "id": "d4eb0c0a",
   "metadata": {},
   "outputs": [
    {
     "ename": "NameError",
     "evalue": "name 'pi' is not defined",
     "output_type": "error",
     "traceback": [
      "\u001b[0;31m---------------------------------------------------------------------------\u001b[0m",
      "\u001b[0;31mNameError\u001b[0m                                 Traceback (most recent call last)",
      "\u001b[0;32m/var/folders/lp/pxhhvyv90vx8hwbv8yjldhj80000gn/T/ipykernel_6369/115833019.py\u001b[0m in \u001b[0;36m<module>\u001b[0;34m\u001b[0m\n\u001b[0;32m----> 1\u001b[0;31m \u001b[0mpi\u001b[0m \u001b[0;31m#only works within the math module\u001b[0m\u001b[0;34m\u001b[0m\u001b[0;34m\u001b[0m\u001b[0m\n\u001b[0m",
      "\u001b[0;31mNameError\u001b[0m: name 'pi' is not defined"
     ]
    }
   ],
   "source": [
    "pi #only works within the math module"
   ]
  },
  {
   "cell_type": "markdown",
   "id": "8ec53fa3",
   "metadata": {},
   "source": [
    "#### importing with an alias"
   ]
  },
  {
   "cell_type": "code",
   "execution_count": 14,
   "id": "07cc28b5",
   "metadata": {},
   "outputs": [],
   "source": [
    "import math as m #careful with the alias... it cannot be used as a variable or it will reassign it"
   ]
  },
  {
   "cell_type": "markdown",
   "id": "6c401d8e",
   "metadata": {},
   "source": [
    "#### importing a function only"
   ]
  },
  {
   "cell_type": "markdown",
   "id": "96eb89e5",
   "metadata": {},
   "source": [
    " - from [module_name] import [function]"
   ]
  },
  {
   "cell_type": "code",
   "execution_count": 15,
   "id": "7a894bab",
   "metadata": {},
   "outputs": [],
   "source": [
    "from math import sqrt"
   ]
  },
  {
   "cell_type": "code",
   "execution_count": 16,
   "id": "0b565de4",
   "metadata": {},
   "outputs": [
    {
     "data": {
      "text/plain": [
       "10.0"
      ]
     },
     "execution_count": 16,
     "metadata": {},
     "output_type": "execute_result"
    }
   ],
   "source": [
    "sqrt(100)"
   ]
  },
  {
   "cell_type": "markdown",
   "id": "0ca62699",
   "metadata": {},
   "source": [
    "#### import functions with alias & use"
   ]
  },
  {
   "cell_type": "code",
   "execution_count": 17,
   "id": "5a64786a",
   "metadata": {},
   "outputs": [],
   "source": [
    "from math import sqrt as sr"
   ]
  },
  {
   "cell_type": "code",
   "execution_count": 18,
   "id": "b224d5a8",
   "metadata": {},
   "outputs": [
    {
     "data": {
      "text/plain": [
       "10.0"
      ]
     },
     "execution_count": 18,
     "metadata": {},
     "output_type": "execute_result"
    }
   ],
   "source": [
    "sr(100)"
   ]
  },
  {
   "cell_type": "code",
   "execution_count": 19,
   "id": "09477223",
   "metadata": {},
   "outputs": [
    {
     "data": {
      "text/plain": [
       "3.141592653589793"
      ]
     },
     "execution_count": 19,
     "metadata": {},
     "output_type": "execute_result"
    }
   ],
   "source": [
    "math.pi"
   ]
  },
  {
   "cell_type": "markdown",
   "id": "ca613890",
   "metadata": {},
   "source": [
    "## 3rd Party Library\n",
    "\n",
    "- potentially need to install"
   ]
  },
  {
   "cell_type": "markdown",
   "id": "79c3fd74",
   "metadata": {},
   "source": [
    "### Install"
   ]
  },
  {
   "cell_type": "markdown",
   "id": "1764371d",
   "metadata": {},
   "source": [
    "<div class=\"alert alert-block alert-success\">\n",
    "    <b>Do:</b> this on the command line\n",
    "</div>\n",
    "\n",
    "`conda install somepackage`\n",
    "\n",
    "`pip install somepackage`"
   ]
  },
  {
   "cell_type": "markdown",
   "id": "aa3da952",
   "metadata": {},
   "source": [
    "### Run Em"
   ]
  },
  {
   "cell_type": "markdown",
   "id": "b3c5a381",
   "metadata": {},
   "source": [
    "#### import and use numpy"
   ]
  },
  {
   "cell_type": "code",
   "execution_count": null,
   "id": "0b81a3fc",
   "metadata": {},
   "outputs": [],
   "source": []
  },
  {
   "cell_type": "code",
   "execution_count": null,
   "id": "9afe3d1a",
   "metadata": {},
   "outputs": [],
   "source": []
  },
  {
   "cell_type": "markdown",
   "id": "8ca6e6ad",
   "metadata": {},
   "source": [
    "#### import and use pandas"
   ]
  },
  {
   "cell_type": "code",
   "execution_count": 22,
   "id": "3f1c15e2",
   "metadata": {},
   "outputs": [],
   "source": [
    "import numpy as np"
   ]
  },
  {
   "cell_type": "code",
   "execution_count": 23,
   "id": "165016d2",
   "metadata": {},
   "outputs": [
    {
     "ename": "AttributeError",
     "evalue": "module 'numpy' has no attribute 'arrange'",
     "output_type": "error",
     "traceback": [
      "\u001b[0;31m---------------------------------------------------------------------------\u001b[0m",
      "\u001b[0;31mAttributeError\u001b[0m                            Traceback (most recent call last)",
      "\u001b[0;32m/var/folders/lp/pxhhvyv90vx8hwbv8yjldhj80000gn/T/ipykernel_6369/1112474116.py\u001b[0m in \u001b[0;36m<module>\u001b[0;34m\u001b[0m\n\u001b[0;32m----> 1\u001b[0;31m \u001b[0mnp\u001b[0m\u001b[0;34m.\u001b[0m\u001b[0marrange\u001b[0m\u001b[0;34m(\u001b[0m\u001b[0;36m10\u001b[0m\u001b[0;34m)\u001b[0m\u001b[0;34m\u001b[0m\u001b[0;34m\u001b[0m\u001b[0m\n\u001b[0m",
      "\u001b[0;32m/usr/local/anaconda3/lib/python3.9/site-packages/numpy/__init__.py\u001b[0m in \u001b[0;36m__getattr__\u001b[0;34m(attr)\u001b[0m\n\u001b[1;32m    311\u001b[0m                 \u001b[0;32mreturn\u001b[0m \u001b[0mTester\u001b[0m\u001b[0;34m\u001b[0m\u001b[0;34m\u001b[0m\u001b[0m\n\u001b[1;32m    312\u001b[0m \u001b[0;34m\u001b[0m\u001b[0m\n\u001b[0;32m--> 313\u001b[0;31m             raise AttributeError(\"module {!r} has no attribute \"\n\u001b[0m\u001b[1;32m    314\u001b[0m                                  \"{!r}\".format(__name__, attr))\n\u001b[1;32m    315\u001b[0m \u001b[0;34m\u001b[0m\u001b[0m\n",
      "\u001b[0;31mAttributeError\u001b[0m: module 'numpy' has no attribute 'arrange'"
     ]
    }
   ],
   "source": [
    "np.arrange(10)"
   ]
  },
  {
   "cell_type": "code",
   "execution_count": 24,
   "id": "e4e165aa",
   "metadata": {},
   "outputs": [],
   "source": [
    "import pandas as pd"
   ]
  },
  {
   "cell_type": "code",
   "execution_count": 27,
   "id": "17b43ea3",
   "metadata": {},
   "outputs": [
    {
     "data": {
      "text/html": [
       "<div>\n",
       "<style scoped>\n",
       "    .dataframe tbody tr th:only-of-type {\n",
       "        vertical-align: middle;\n",
       "    }\n",
       "\n",
       "    .dataframe tbody tr th {\n",
       "        vertical-align: top;\n",
       "    }\n",
       "\n",
       "    .dataframe thead th {\n",
       "        text-align: right;\n",
       "    }\n",
       "</style>\n",
       "<table border=\"1\" class=\"dataframe\">\n",
       "  <thead>\n",
       "    <tr style=\"text-align: right;\">\n",
       "      <th></th>\n",
       "      <th>col\" \"l</th>\n",
       "      <th>col2</th>\n",
       "    </tr>\n",
       "  </thead>\n",
       "  <tbody>\n",
       "    <tr>\n",
       "      <th>0</th>\n",
       "      <td>1</td>\n",
       "      <td>3</td>\n",
       "    </tr>\n",
       "    <tr>\n",
       "      <th>1</th>\n",
       "      <td>2</td>\n",
       "      <td>4</td>\n",
       "    </tr>\n",
       "  </tbody>\n",
       "</table>\n",
       "</div>"
      ],
      "text/plain": [
       "   col\" \"l  col2\n",
       "0        1     3\n",
       "1        2     4"
      ]
     },
     "execution_count": 27,
     "metadata": {},
     "output_type": "execute_result"
    }
   ],
   "source": [
    "pd.DataFrame({'coll':[1,2], 'col2':[3,4]})"
   ]
  },
  {
   "cell_type": "markdown",
   "id": "bbeb3d9f",
   "metadata": {},
   "source": [
    "## Your Own Code! "
   ]
  },
  {
   "cell_type": "markdown",
   "id": "c7ee59f6",
   "metadata": {},
   "source": [
    "#### Why?\n",
    "- You'll do this often\n",
    "\n",
    "- Avoid showing all of your code when you want to show visuals + charts\n",
    "\n",
    "- To utilize a function that you will use over and over"
   ]
  },
  {
   "cell_type": "markdown",
   "id": "5251a02e",
   "metadata": {},
   "source": [
    "#### How?\n",
    "1: Write a .py script with your variables and/or functions \n",
    "\n",
    "2: Save it in the **SAME FOLDER** as working file\n",
    "\n",
    "3: In your working file, import module_name (no .py)"
   ]
  },
  {
   "cell_type": "markdown",
   "id": "e663fe80",
   "metadata": {},
   "source": [
    "#### import my py file that i made"
   ]
  },
  {
   "cell_type": "code",
   "execution_count": 1,
   "id": "95ad671f",
   "metadata": {},
   "outputs": [],
   "source": [
    "import functions_exercises"
   ]
  },
  {
   "cell_type": "markdown",
   "id": "65dfa736",
   "metadata": {},
   "source": [
    "#### call the functions that i made using the alias"
   ]
  },
  {
   "cell_type": "code",
   "execution_count": 2,
   "id": "4ab6466e",
   "metadata": {},
   "outputs": [
    {
     "ename": "AttributeError",
     "evalue": "module 'functions_exercises' has no attribute 'add_two'",
     "output_type": "error",
     "traceback": [
      "\u001b[0;31m---------------------------------------------------------------------------\u001b[0m",
      "\u001b[0;31mAttributeError\u001b[0m                            Traceback (most recent call last)",
      "\u001b[0;32m/var/folders/lp/pxhhvyv90vx8hwbv8yjldhj80000gn/T/ipykernel_6411/103021834.py\u001b[0m in \u001b[0;36m<module>\u001b[0;34m\u001b[0m\n\u001b[0;32m----> 1\u001b[0;31m \u001b[0mfunctions_exercises\u001b[0m\u001b[0;34m.\u001b[0m\u001b[0madd_two\u001b[0m\u001b[0;34m(\u001b[0m\u001b[0;36m10\u001b[0m\u001b[0;34m)\u001b[0m\u001b[0;34m\u001b[0m\u001b[0;34m\u001b[0m\u001b[0m\n\u001b[0m",
      "\u001b[0;31mAttributeError\u001b[0m: module 'functions_exercises' has no attribute 'add_two'"
     ]
    }
   ],
   "source": [
    "functions_exercises.add_two(10)"
   ]
  },
  {
   "cell_type": "code",
   "execution_count": null,
   "id": "cf018c09",
   "metadata": {},
   "outputs": [],
   "source": []
  },
  {
   "cell_type": "code",
   "execution_count": null,
   "id": "260116ed",
   "metadata": {},
   "outputs": [],
   "source": []
  },
  {
   "cell_type": "markdown",
   "id": "3d571c10",
   "metadata": {},
   "source": [
    "#### need to restart kernal to import saves to py file"
   ]
  },
  {
   "cell_type": "code",
   "execution_count": null,
   "id": "24e7ec76",
   "metadata": {},
   "outputs": [],
   "source": []
  },
  {
   "cell_type": "markdown",
   "id": "88b55aff",
   "metadata": {},
   "source": [
    "#### can access all my created functions"
   ]
  },
  {
   "cell_type": "code",
   "execution_count": null,
   "id": "0c474fbe",
   "metadata": {},
   "outputs": [],
   "source": []
  },
  {
   "cell_type": "code",
   "execution_count": null,
   "id": "8dddcf3d",
   "metadata": {},
   "outputs": [],
   "source": []
  }
 ],
 "metadata": {
  "kernelspec": {
   "display_name": "Python 3 (ipykernel)",
   "language": "python",
   "name": "python3"
  },
  "language_info": {
   "codemirror_mode": {
    "name": "ipython",
    "version": 3
   },
   "file_extension": ".py",
   "mimetype": "text/x-python",
   "name": "python",
   "nbconvert_exporter": "python",
   "pygments_lexer": "ipython3",
   "version": "3.9.13"
  }
 },
 "nbformat": 4,
 "nbformat_minor": 5
}
