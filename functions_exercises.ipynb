{
 "cells": [
  {
   "cell_type": "markdown",
   "id": "b002f8fc",
   "metadata": {},
   "source": [
    "## 1.\n",
    "Define a function named is_two. It should accept one input and return True if the passed input is either the number or the string 2, False otherwise."
   ]
  },
  {
   "cell_type": "code",
   "execution_count": 232,
   "id": "898b71cd",
   "metadata": {},
   "outputs": [],
   "source": [
    "\n",
    "\n",
    "def is_two (num):\n",
    "    if num == (2 or '2'):\n",
    "        print('True')\n",
    "    else:\n",
    "        print('False')\n",
    "    return num\n",
    "\n",
    "    "
   ]
  },
  {
   "cell_type": "code",
   "execution_count": 233,
   "id": "5885255e",
   "metadata": {},
   "outputs": [
    {
     "name": "stdout",
     "output_type": "stream",
     "text": [
      "True\n"
     ]
    },
    {
     "data": {
      "text/plain": [
       "2"
      ]
     },
     "execution_count": 233,
     "metadata": {},
     "output_type": "execute_result"
    }
   ],
   "source": [
    "is_two(2)"
   ]
  },
  {
   "cell_type": "code",
   "execution_count": 234,
   "id": "0e73e695",
   "metadata": {},
   "outputs": [
    {
     "name": "stdout",
     "output_type": "stream",
     "text": [
      "False\n"
     ]
    },
    {
     "data": {
      "text/plain": [
       "'2'"
      ]
     },
     "execution_count": 234,
     "metadata": {},
     "output_type": "execute_result"
    }
   ],
   "source": [
    "is_two('2')"
   ]
  },
  {
   "cell_type": "code",
   "execution_count": 235,
   "id": "a7b7827c",
   "metadata": {},
   "outputs": [
    {
     "name": "stdout",
     "output_type": "stream",
     "text": [
      "False\n"
     ]
    },
    {
     "data": {
      "text/plain": [
       "3"
      ]
     },
     "execution_count": 235,
     "metadata": {},
     "output_type": "execute_result"
    }
   ],
   "source": [
    "is_two(3)"
   ]
  },
  {
   "cell_type": "code",
   "execution_count": 300,
   "id": "ff8fea41",
   "metadata": {},
   "outputs": [],
   "source": [
    "#misty example\n",
    "test_input = 2"
   ]
  },
  {
   "cell_type": "code",
   "execution_count": 302,
   "id": "146c6b56",
   "metadata": {},
   "outputs": [
    {
     "name": "stdout",
     "output_type": "stream",
     "text": [
      "True\n"
     ]
    }
   ],
   "source": [
    "if test_input == 2 or test_input == '2':\n",
    "    print(True)"
   ]
  },
  {
   "cell_type": "code",
   "execution_count": 308,
   "id": "f31acf50",
   "metadata": {},
   "outputs": [],
   "source": [
    "def is_two(string):\n",
    "    if string == 2 or test_input == '2':\n",
    "        return True\n",
    "    else:\n",
    "        return False"
   ]
  },
  {
   "cell_type": "code",
   "execution_count": 309,
   "id": "acda6ca9",
   "metadata": {},
   "outputs": [
    {
     "data": {
      "text/plain": [
       "True"
      ]
     },
     "execution_count": 309,
     "metadata": {},
     "output_type": "execute_result"
    }
   ],
   "source": [
    "is_two(2)"
   ]
  },
  {
   "cell_type": "code",
   "execution_count": 310,
   "id": "8171e5a3",
   "metadata": {},
   "outputs": [
    {
     "data": {
      "text/plain": [
       "False"
      ]
     },
     "execution_count": 310,
     "metadata": {},
     "output_type": "execute_result"
    }
   ],
   "source": [
    "is_two(3)"
   ]
  },
  {
   "cell_type": "markdown",
   "id": "29c4a23a",
   "metadata": {},
   "source": [
    "## 2.\n",
    "Define a function named is_vowel. It should return True if the passed string is a vowel, False otherwise."
   ]
  },
  {
   "cell_type": "code",
   "execution_count": 161,
   "id": "0a9372b4",
   "metadata": {},
   "outputs": [],
   "source": [
    "def is_vowel (ch):\n",
    "    if(ch=='A' or ch=='a' or ch=='E' or ch =='e' or ch=='I'\n",
    "     or ch=='i' or ch=='O' or ch=='o' or ch=='U' or ch=='u'):\n",
    "        print('True')\n",
    "    else:\n",
    "        print('False')\n",
    "    return ch"
   ]
  },
  {
   "cell_type": "code",
   "execution_count": 311,
   "id": "832bb10e",
   "metadata": {},
   "outputs": [],
   "source": [
    "#misty example"
   ]
  },
  {
   "cell_type": "code",
   "execution_count": 313,
   "id": "89df143a",
   "metadata": {},
   "outputs": [],
   "source": [
    "string = 'a'\n"
   ]
  },
  {
   "cell_type": "code",
   "execution_count": 314,
   "id": "2014909c",
   "metadata": {},
   "outputs": [
    {
     "name": "stdout",
     "output_type": "stream",
     "text": [
      "True\n"
     ]
    }
   ],
   "source": [
    "if string == 'a' or string == 'e':\n",
    "    print(True)"
   ]
  },
  {
   "cell_type": "code",
   "execution_count": 315,
   "id": "84951d8f",
   "metadata": {},
   "outputs": [],
   "source": [
    "vowels = ['a','e','i','o','u']"
   ]
  },
  {
   "cell_type": "code",
   "execution_count": 316,
   "id": "d45f2bff",
   "metadata": {},
   "outputs": [
    {
     "name": "stdout",
     "output_type": "stream",
     "text": [
      "True\n"
     ]
    }
   ],
   "source": [
    "if string in vowels:\n",
    "    print(True)"
   ]
  },
  {
   "cell_type": "code",
   "execution_count": null,
   "id": "bd15e603",
   "metadata": {},
   "outputs": [],
   "source": [
    "string_vowels = 'aeiou'"
   ]
  },
  {
   "cell_type": "code",
   "execution_count": null,
   "id": "61969947",
   "metadata": {},
   "outputs": [],
   "source": [
    "if string in string_vowels:\n",
    "    print(True)"
   ]
  },
  {
   "cell_type": "code",
   "execution_count": 320,
   "id": "48e3471c",
   "metadata": {},
   "outputs": [],
   "source": [
    "def is_vowel(string):\n",
    "    string_vowels = 'aeiou'\n",
    "    return string.lower() in string_vowels"
   ]
  },
  {
   "cell_type": "code",
   "execution_count": 318,
   "id": "53ba3cc5",
   "metadata": {},
   "outputs": [
    {
     "data": {
      "text/plain": [
       "True"
      ]
     },
     "execution_count": 318,
     "metadata": {},
     "output_type": "execute_result"
    }
   ],
   "source": [
    "is_vowel('a')"
   ]
  },
  {
   "cell_type": "code",
   "execution_count": 321,
   "id": "a14c3d8f",
   "metadata": {},
   "outputs": [
    {
     "data": {
      "text/plain": [
       "False"
      ]
     },
     "execution_count": 321,
     "metadata": {},
     "output_type": "execute_result"
    }
   ],
   "source": [
    "is_vowel('f')"
   ]
  },
  {
   "cell_type": "code",
   "execution_count": 322,
   "id": "fc331621",
   "metadata": {},
   "outputs": [
    {
     "data": {
      "text/plain": [
       "True"
      ]
     },
     "execution_count": 322,
     "metadata": {},
     "output_type": "execute_result"
    }
   ],
   "source": [
    "is_vowel('A')"
   ]
  },
  {
   "cell_type": "markdown",
   "id": "fe3d3941",
   "metadata": {},
   "source": [
    "## 3.\n",
    "Define a function named is_consonant. It should return True if the passed string is a consonant, False otherwise. Use your is_vowel function to accomplish this."
   ]
  },
  {
   "cell_type": "code",
   "execution_count": 328,
   "id": "b40e4a2d",
   "metadata": {},
   "outputs": [],
   "source": [
    "def is_consonant (con):\n",
    "    if con == (\"a\" or \"e\" or \"i\" or \"o\" or \"u\" or \"A\" or \"E\" or \"I\" or \"O\" or \"U\"):\n",
    "        print (\"False\")\n",
    "    else:\n",
    "        print (\"True\")\n",
    "    return"
   ]
  },
  {
   "cell_type": "code",
   "execution_count": 329,
   "id": "822ccebe",
   "metadata": {
    "scrolled": true
   },
   "outputs": [
    {
     "name": "stdout",
     "output_type": "stream",
     "text": [
      "False\n"
     ]
    }
   ],
   "source": [
    "is_consonant(a)"
   ]
  },
  {
   "cell_type": "code",
   "execution_count": 176,
   "id": "552ee982",
   "metadata": {},
   "outputs": [
    {
     "name": "stdout",
     "output_type": "stream",
     "text": [
      "True\n"
     ]
    }
   ],
   "source": [
    "is_consonant(\"b\")"
   ]
  },
  {
   "cell_type": "code",
   "execution_count": 330,
   "id": "cb180afa",
   "metadata": {},
   "outputs": [
    {
     "name": "stdout",
     "output_type": "stream",
     "text": [
      "True\n"
     ]
    }
   ],
   "source": [
    "is_consonant(\"A\")"
   ]
  },
  {
   "cell_type": "markdown",
   "id": "be47de7a",
   "metadata": {},
   "source": [
    "## 4.\n",
    "Define a function that accepts a string that is a word. The function should capitalize the first letter of the word if the word starts with a consonant."
   ]
  },
  {
   "cell_type": "code",
   "execution_count": 191,
   "id": "78e0683e",
   "metadata": {},
   "outputs": [],
   "source": [
    "def capitalize_consonant(word):\n",
    "    vowel = [\"a\",\"e\",'i','o','u']\n",
    "    if word[0].lower() not in vowel:\n",
    "        return word.capitalize()\n",
    "    else:\n",
    "        return word"
   ]
  },
  {
   "cell_type": "code",
   "execution_count": 192,
   "id": "2b9d5cf6",
   "metadata": {},
   "outputs": [
    {
     "data": {
      "text/plain": [
       "'Hotel'"
      ]
     },
     "execution_count": 192,
     "metadata": {},
     "output_type": "execute_result"
    }
   ],
   "source": [
    "capitalize_consonant('hotel')"
   ]
  },
  {
   "cell_type": "markdown",
   "id": "9655ec31",
   "metadata": {},
   "source": [
    "## 5.\n",
    "Define a function named calculate_tip. It should accept a tip percentage (a number between 0 and 1) and the bill total, and return the amount to tip."
   ]
  },
  {
   "cell_type": "code",
   "execution_count": 236,
   "id": "0a15f767",
   "metadata": {},
   "outputs": [],
   "source": [
    "def calculate_tip(tip_perc, bl_total):\n",
    "    tip_amount = tip_perc * bl_total\n",
    "    return (tip_amount)\n",
    "    "
   ]
  },
  {
   "cell_type": "code",
   "execution_count": 237,
   "id": "dab26b92",
   "metadata": {},
   "outputs": [
    {
     "data": {
      "text/plain": [
       "7.15"
      ]
     },
     "execution_count": 237,
     "metadata": {},
     "output_type": "execute_result"
    }
   ],
   "source": [
    "calculate_tip(0.20, 35.75)"
   ]
  },
  {
   "cell_type": "markdown",
   "id": "ce85a679",
   "metadata": {},
   "source": [
    "## 6.\n",
    "Define a function named apply_discount. It should accept a original price, and a discount percentage, and return the price after the discount is applied."
   ]
  },
  {
   "cell_type": "code",
   "execution_count": 211,
   "id": "9dd84d68",
   "metadata": {},
   "outputs": [],
   "source": [
    "def apply_discount(original_price, discount_percentage):\n",
    "    discount_amount = original_price * (discount_percentage/100)\n",
    "    discounted_price = original_price - discount_amount\n",
    "    return discounted_price"
   ]
  },
  {
   "cell_type": "code",
   "execution_count": 212,
   "id": "f0114953",
   "metadata": {},
   "outputs": [
    {
     "data": {
      "text/plain": [
       "93.75"
      ]
     },
     "execution_count": 212,
     "metadata": {},
     "output_type": "execute_result"
    }
   ],
   "source": [
    "apply_discount(125, 25)"
   ]
  },
  {
   "cell_type": "markdown",
   "id": "13d28098",
   "metadata": {},
   "source": [
    "## 7.\n",
    "Define a function named handle_commas. It should accept a string that is a number that contains commas in it as input, and return a number as output."
   ]
  },
  {
   "cell_type": "code",
   "execution_count": 331,
   "id": "6f95534c",
   "metadata": {},
   "outputs": [],
   "source": [
    "def handle_commas(number_string):\n",
    "    number_string = number_string.replace(',',\"\")\n",
    "    number = (number_string)\n",
    "    return int(number)"
   ]
  },
  {
   "cell_type": "code",
   "execution_count": 332,
   "id": "9335db12",
   "metadata": {},
   "outputs": [
    {
     "data": {
      "text/plain": [
       "1000"
      ]
     },
     "execution_count": 332,
     "metadata": {},
     "output_type": "execute_result"
    }
   ],
   "source": [
    "handle_commas ('1,000')"
   ]
  },
  {
   "cell_type": "markdown",
   "id": "5af2ec8f",
   "metadata": {},
   "source": [
    "## 8.\n",
    "Define a function named get_letter_grade. It should accept a number and return the letter grade associated with that number (A-F)."
   ]
  },
  {
   "cell_type": "code",
   "execution_count": 216,
   "id": "2586a042",
   "metadata": {},
   "outputs": [],
   "source": [
    "def get_letter_grade(number):\n",
    "    if number >= 90:\n",
    "        return 'A'\n",
    "    elif number >= 80:\n",
    "        return 'B'\n",
    "    elif number >= 70:\n",
    "        return 'C'\n",
    "    elif number >= 60:\n",
    "        return 'D'\n",
    "    else:\n",
    "        return 'F'\n",
    "    "
   ]
  },
  {
   "cell_type": "code",
   "execution_count": 217,
   "id": "36d636ea",
   "metadata": {},
   "outputs": [
    {
     "data": {
      "text/plain": [
       "'B'"
      ]
     },
     "execution_count": 217,
     "metadata": {},
     "output_type": "execute_result"
    }
   ],
   "source": [
    "get_letter_grade(80)"
   ]
  },
  {
   "cell_type": "code",
   "execution_count": 333,
   "id": "452646fd",
   "metadata": {},
   "outputs": [
    {
     "data": {
      "text/plain": [
       "'D'"
      ]
     },
     "execution_count": 333,
     "metadata": {},
     "output_type": "execute_result"
    }
   ],
   "source": [
    "get_letter_grade(68)"
   ]
  },
  {
   "cell_type": "code",
   "execution_count": 334,
   "id": "f12bb194",
   "metadata": {},
   "outputs": [
    {
     "data": {
      "text/plain": [
       "'F'"
      ]
     },
     "execution_count": 334,
     "metadata": {},
     "output_type": "execute_result"
    }
   ],
   "source": [
    "get_letter_grade(40)"
   ]
  },
  {
   "cell_type": "markdown",
   "id": "eb64815a",
   "metadata": {},
   "source": [
    "## 9.\n",
    "Define a function named remove_vowels that accepts a string and returns a string with all the vowels removed."
   ]
  },
  {
   "cell_type": "code",
   "execution_count": 218,
   "id": "317c10b3",
   "metadata": {},
   "outputs": [],
   "source": [
    "def remove_vowels(string):\n",
    "    vowels = ['a','e','i','o','u','A','E','I','O','U']\n",
    "    new_string = \"\"\n",
    "    for char in string:\n",
    "        if char not in vowels:\n",
    "            new_string += char\n",
    "    return new_string"
   ]
  },
  {
   "cell_type": "code",
   "execution_count": 219,
   "id": "f2f3e8ed",
   "metadata": {},
   "outputs": [
    {
     "data": {
      "text/plain": [
       "'prtn'"
      ]
     },
     "execution_count": 219,
     "metadata": {},
     "output_type": "execute_result"
    }
   ],
   "source": [
    "remove_vowels('operation')"
   ]
  },
  {
   "cell_type": "markdown",
   "id": "477c6da0",
   "metadata": {},
   "source": [
    "## 10.\n",
    "Define a function named normalize_name. It should accept a string and return a valid python identifier, that is:\n",
    "- anything that is not a valid python identifier should be removed\n",
    "- leading and trailing whitespace should be removed\n",
    "- everything should be lowercase\n",
    "- spaces should be replaced with underscores\n",
    "  \n",
    "  -- for example:\n",
    "- Name will become name\n",
    "- First Name will become first_name\n",
    "- % Completed will become completed"
   ]
  },
  {
   "cell_type": "code",
   "execution_count": 341,
   "id": "98fbb536",
   "metadata": {},
   "outputs": [],
   "source": [
    "def normalize_name(string):\n",
    "    string = ''.join(i for i in string if i.isalnum() or i ==' ')\n",
    "    string = string.strip().lower().replace(' ','_')\n",
    "    return string\n",
    "    \n",
    "    #string = string.lower()\n",
    "    #string = string.replace(' ','_')\n",
    "    #return string"
   ]
  },
  {
   "cell_type": "code",
   "execution_count": 342,
   "id": "1251b6a3",
   "metadata": {},
   "outputs": [
    {
     "data": {
      "text/plain": [
       "'hotel_california'"
      ]
     },
     "execution_count": 342,
     "metadata": {},
     "output_type": "execute_result"
    }
   ],
   "source": [
    "normalize_name('Hotel California!!!')"
   ]
  },
  {
   "cell_type": "markdown",
   "id": "395a29a9",
   "metadata": {},
   "source": [
    "## 11.\n",
    "Write a function named cumulative_sum that accepts a list of numbers and returns a list that is the cumulative sum of the numbers in the list.\n",
    "cumulative_sum([1, 1, 1]) returns [1, 2, 3]\n",
    "cumulative_sum([1, 2, 3, 4]) returns [1, 3, 6, 10]"
   ]
  },
  {
   "cell_type": "code",
   "execution_count": 243,
   "id": "ce538b3e",
   "metadata": {},
   "outputs": [
    {
     "data": {
      "text/plain": [
       "[1, 4, 10, 20]"
      ]
     },
     "execution_count": 243,
     "metadata": {},
     "output_type": "execute_result"
    }
   ],
   "source": [
    "from itertools import accumulate\n",
    "def cumulative_sum(input_list):\n",
    "    return list(accumulate(input_list))\n",
    "cumulative_sum([1, 3, 6, 10])"
   ]
  },
  {
   "cell_type": "code",
   "execution_count": 240,
   "id": "955b3b2e",
   "metadata": {},
   "outputs": [
    {
     "data": {
      "text/plain": [
       "[1, 2, 3]"
      ]
     },
     "execution_count": 240,
     "metadata": {},
     "output_type": "execute_result"
    }
   ],
   "source": [
    "cumulative_sum([1,1,1])"
   ]
  },
  {
   "cell_type": "code",
   "execution_count": 244,
   "id": "1f389bbe",
   "metadata": {},
   "outputs": [],
   "source": [
    "def cumulative_sum(numbers):\n",
    "    cumulative_sum = []\n",
    "    sum_so_far = 0\n",
    "    for number in numbers:\n",
    "        sum_so_far += number\n",
    "        cumulative_sum.append(sum_so_far)\n",
    "    return cumulative_sum"
   ]
  },
  {
   "cell_type": "code",
   "execution_count": 246,
   "id": "4d096319",
   "metadata": {},
   "outputs": [
    {
     "data": {
      "text/plain": [
       "[1, 2, 3]"
      ]
     },
     "execution_count": 246,
     "metadata": {},
     "output_type": "execute_result"
    }
   ],
   "source": [
    "cumulative_sum([1,1,1])"
   ]
  }
 ],
 "metadata": {
  "kernelspec": {
   "display_name": "Python 3 (ipykernel)",
   "language": "python",
   "name": "python3"
  },
  "language_info": {
   "codemirror_mode": {
    "name": "ipython",
    "version": 3
   },
   "file_extension": ".py",
   "mimetype": "text/x-python",
   "name": "python",
   "nbconvert_exporter": "python",
   "pygments_lexer": "ipython3",
   "version": "3.9.13"
  }
 },
 "nbformat": 4,
 "nbformat_minor": 5
}
