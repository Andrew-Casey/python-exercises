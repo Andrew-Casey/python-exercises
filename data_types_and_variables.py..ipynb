{
 "cells": [
  {
   "cell_type": "markdown",
   "id": "3cd89086",
   "metadata": {},
   "source": [
    "# #1\n",
    "Identify the data type of the following values:\n",
    "\n",
    "\n",
    "99.9\n",
    "\n",
    "\"False\"\n",
    "\n",
    " False\n",
    "\n",
    "'0'\n",
    "\n",
    " 0\n",
    "\n",
    " True\n",
    "\n",
    "'True'\n",
    "\n",
    "[ { } ]\n",
    "\n",
    "{'a': [ ]}"
   ]
  },
  {
   "cell_type": "code",
   "execution_count": 1,
   "id": "aa3672ac",
   "metadata": {},
   "outputs": [
    {
     "data": {
      "text/plain": [
       "float"
      ]
     },
     "execution_count": 1,
     "metadata": {},
     "output_type": "execute_result"
    }
   ],
   "source": [
    "type(99.9)"
   ]
  },
  {
   "cell_type": "code",
   "execution_count": 2,
   "id": "b3f6c380",
   "metadata": {},
   "outputs": [
    {
     "data": {
      "text/plain": [
       "str"
      ]
     },
     "execution_count": 2,
     "metadata": {},
     "output_type": "execute_result"
    }
   ],
   "source": [
    "type(\"False\")"
   ]
  },
  {
   "cell_type": "code",
   "execution_count": 3,
   "id": "326b0958",
   "metadata": {},
   "outputs": [
    {
     "data": {
      "text/plain": [
       "bool"
      ]
     },
     "execution_count": 3,
     "metadata": {},
     "output_type": "execute_result"
    }
   ],
   "source": [
    "type(False)"
   ]
  },
  {
   "cell_type": "code",
   "execution_count": 4,
   "id": "0424ca18",
   "metadata": {},
   "outputs": [
    {
     "data": {
      "text/plain": [
       "str"
      ]
     },
     "execution_count": 4,
     "metadata": {},
     "output_type": "execute_result"
    }
   ],
   "source": [
    "type('0')"
   ]
  },
  {
   "cell_type": "code",
   "execution_count": 5,
   "id": "252db0c1",
   "metadata": {},
   "outputs": [
    {
     "data": {
      "text/plain": [
       "int"
      ]
     },
     "execution_count": 5,
     "metadata": {},
     "output_type": "execute_result"
    }
   ],
   "source": [
    "type(0)"
   ]
  },
  {
   "cell_type": "code",
   "execution_count": 6,
   "id": "b2edb8d9",
   "metadata": {},
   "outputs": [
    {
     "data": {
      "text/plain": [
       "bool"
      ]
     },
     "execution_count": 6,
     "metadata": {},
     "output_type": "execute_result"
    }
   ],
   "source": [
    "type(True)"
   ]
  },
  {
   "cell_type": "code",
   "execution_count": 7,
   "id": "12b566c2",
   "metadata": {},
   "outputs": [
    {
     "data": {
      "text/plain": [
       "str"
      ]
     },
     "execution_count": 7,
     "metadata": {},
     "output_type": "execute_result"
    }
   ],
   "source": [
    "type('True')"
   ]
  },
  {
   "cell_type": "code",
   "execution_count": 8,
   "id": "8df76586",
   "metadata": {},
   "outputs": [
    {
     "data": {
      "text/plain": [
       "list"
      ]
     },
     "execution_count": 8,
     "metadata": {},
     "output_type": "execute_result"
    }
   ],
   "source": [
    "type([{}])"
   ]
  },
  {
   "cell_type": "code",
   "execution_count": 9,
   "id": "70b20f45",
   "metadata": {},
   "outputs": [
    {
     "data": {
      "text/plain": [
       "dict"
      ]
     },
     "execution_count": 9,
     "metadata": {},
     "output_type": "execute_result"
    }
   ],
   "source": [
    "type({'a':[]})"
   ]
  },
  {
   "cell_type": "markdown",
   "id": "b7b21152",
   "metadata": {},
   "source": [
    "# #2\n",
    "What data type would best represent the following?\n",
    "\n",
    "A term or phrase typed into a search box\n",
    "\n",
    "Whether or not a user is logged in\n",
    "\n",
    "A discount amount to apply to a user's shopping cart\n",
    "\n",
    "Whether or not a coupon code is valid\n",
    "\n",
    "An email address typed into a registration form\n",
    "\n",
    "The price of a product\n",
    "\n",
    "The email addresses collected from a registration form\n",
    "\n",
    "Information about applicants to Codeup's data science program"
   ]
  },
  {
   "cell_type": "code",
   "execution_count": 10,
   "id": "5f82b867",
   "metadata": {},
   "outputs": [
    {
     "data": {
      "text/plain": [
       "'A term or phrase typed into a search box is a string'"
      ]
     },
     "execution_count": 10,
     "metadata": {},
     "output_type": "execute_result"
    }
   ],
   "source": [
    "'A term or phrase typed into a search box is a string'"
   ]
  },
  {
   "cell_type": "code",
   "execution_count": 11,
   "id": "6974714f",
   "metadata": {},
   "outputs": [
    {
     "data": {
      "text/plain": [
       "'Whether or not a user is logged in would be a boolean as 1s or 0s and/or True or False'"
      ]
     },
     "execution_count": 11,
     "metadata": {},
     "output_type": "execute_result"
    }
   ],
   "source": [
    "'Whether or not a user is logged in would be a boolean as 1s or 0s and/or True or False'"
   ]
  },
  {
   "cell_type": "code",
   "execution_count": 16,
   "id": "943eebab",
   "metadata": {},
   "outputs": [
    {
     "name": "stdout",
     "output_type": "stream",
     "text": [
      " A discount amount to apply to a user's shopping cart would be a float... for example below\n"
     ]
    },
    {
     "data": {
      "text/plain": [
       "float"
      ]
     },
     "execution_count": 16,
     "metadata": {},
     "output_type": "execute_result"
    }
   ],
   "source": [
    "print(\" A discount amount to apply to a user's shopping cart would be a float... for example below\")\n",
    "type(.50)"
   ]
  },
  {
   "cell_type": "code",
   "execution_count": 17,
   "id": "8fcea673",
   "metadata": {},
   "outputs": [
    {
     "data": {
      "text/plain": [
       "'Whether or not a coupon code is valid would be a boolean'"
      ]
     },
     "execution_count": 17,
     "metadata": {},
     "output_type": "execute_result"
    }
   ],
   "source": [
    "'Whether or not a coupon code is valid would be a boolean'"
   ]
  },
  {
   "cell_type": "code",
   "execution_count": 18,
   "id": "5775d41a",
   "metadata": {},
   "outputs": [
    {
     "data": {
      "text/plain": [
       "'An email address typed into a registration form would be a string'"
      ]
     },
     "execution_count": 18,
     "metadata": {},
     "output_type": "execute_result"
    }
   ],
   "source": [
    "'An email address typed into a registration form would be a string'"
   ]
  },
  {
   "cell_type": "code",
   "execution_count": 19,
   "id": "6cb340ef",
   "metadata": {},
   "outputs": [
    {
     "name": "stdout",
     "output_type": "stream",
     "text": [
      "The price of a product would be a float\n"
     ]
    },
    {
     "data": {
      "text/plain": [
       "float"
      ]
     },
     "execution_count": 19,
     "metadata": {},
     "output_type": "execute_result"
    }
   ],
   "source": [
    "print('The price of a product would be a float')\n",
    "type(9.99)"
   ]
  },
  {
   "cell_type": "code",
   "execution_count": 23,
   "id": "940bbaf9",
   "metadata": {},
   "outputs": [
    {
     "data": {
      "text/plain": [
       "[{'casey.andrew.m@gmail.com'}, {'airforce@af.mil'}]"
      ]
     },
     "execution_count": 23,
     "metadata": {},
     "output_type": "execute_result"
    }
   ],
   "source": [
    "\"The email addresses collected from a registration form would be a list\"\n",
    "list([{'casey.andrew.m@gmail.com'},{'airforce@af.mil'}])"
   ]
  },
  {
   "cell_type": "code",
   "execution_count": 75,
   "id": "c1e5aeaa",
   "metadata": {},
   "outputs": [
    {
     "data": {
      "text/plain": [
       "'A matrix is a list of lists'"
      ]
     },
     "execution_count": 75,
     "metadata": {},
     "output_type": "execute_result"
    }
   ],
   "source": [
    "\"A matrix is a list of lists\""
   ]
  },
  {
   "cell_type": "code",
   "execution_count": 24,
   "id": "1c31a9e2",
   "metadata": {},
   "outputs": [
    {
     "data": {
      "text/plain": [
       "\"Information about applicants to Codeup's data science would be a dictionary with keys: 'and_value_pairs'\""
      ]
     },
     "execution_count": 24,
     "metadata": {},
     "output_type": "execute_result"
    }
   ],
   "source": [
    "\"Information about applicants to Codeup's data science would be a dictionary with keys: 'and_value_pairs'\""
   ]
  },
  {
   "cell_type": "markdown",
   "id": "7f3e78f2",
   "metadata": {},
   "source": [
    "# #3\n",
    "For each of the following code blocks:\n",
    "\n",
    "Read the expression and predict the evaluated results\n",
    "\n",
    "Execute the expression in a Python REPL.\n",
    "\n",
    "\n",
    "'1' + 2 (error)\n",
    "\n",
    "6 % 4  (2)\n",
    "\n",
    "type(6 % 4) (int)\n",
    "\n",
    "type(type(6 % 4)) (type)\n",
    "\n",
    "'3 + 4 is ' + 3 + 4 (error)\n",
    "\n",
    "0 < 0 (False)\n",
    "\n",
    "'False' == False (False)\n",
    "\n",
    "True == 'True' (False)\n",
    "\n",
    "5 >= -5 (True)\n",
    "\n",
    "True or \"42\" (True)\n",
    "\n",
    "6 % 5 (1)\n",
    "\n",
    "5 < 4 and 1 == 1 (False)\n",
    "\n",
    "'codeup' == 'codeup' and 'codeup' == 'Codeup' (False)\n",
    "\n",
    "4 >= 0 and 1 !== '1' (error)\n",
    "\n",
    "6 % 3 == 0 (True)\n",
    "\n",
    "5 % 2 != 0 (True)\n",
    "\n",
    "[1] + 2 (error)\n",
    "\n",
    "[1] + [2] [1,2]\n",
    "\n",
    "[1] * 2 [1,1]\n",
    "\n",
    "[1] * [2] (error)\n",
    "\n",
    "[] + [] == [] (True)\n",
    "\n",
    "{} + {} (error)"
   ]
  },
  {
   "cell_type": "code",
   "execution_count": 25,
   "id": "8772a5e6",
   "metadata": {},
   "outputs": [
    {
     "ename": "TypeError",
     "evalue": "can only concatenate str (not \"int\") to str",
     "output_type": "error",
     "traceback": [
      "\u001b[0;31m---------------------------------------------------------------------------\u001b[0m",
      "\u001b[0;31mTypeError\u001b[0m                                 Traceback (most recent call last)",
      "\u001b[0;32m/var/folders/lp/pxhhvyv90vx8hwbv8yjldhj80000gn/T/ipykernel_98353/1195928748.py\u001b[0m in \u001b[0;36m<module>\u001b[0;34m\u001b[0m\n\u001b[0;32m----> 1\u001b[0;31m \u001b[0;34m'1'\u001b[0m \u001b[0;34m+\u001b[0m \u001b[0;36m2\u001b[0m\u001b[0;34m\u001b[0m\u001b[0;34m\u001b[0m\u001b[0m\n\u001b[0m",
      "\u001b[0;31mTypeError\u001b[0m: can only concatenate str (not \"int\") to str"
     ]
    }
   ],
   "source": [
    "'1' + 2"
   ]
  },
  {
   "cell_type": "code",
   "execution_count": 26,
   "id": "e14afd75",
   "metadata": {},
   "outputs": [
    {
     "data": {
      "text/plain": [
       "2"
      ]
     },
     "execution_count": 26,
     "metadata": {},
     "output_type": "execute_result"
    }
   ],
   "source": [
    "6 % 4"
   ]
  },
  {
   "cell_type": "code",
   "execution_count": 27,
   "id": "1aed74f2",
   "metadata": {},
   "outputs": [
    {
     "data": {
      "text/plain": [
       "int"
      ]
     },
     "execution_count": 27,
     "metadata": {},
     "output_type": "execute_result"
    }
   ],
   "source": [
    "type(6 % 4)"
   ]
  },
  {
   "cell_type": "code",
   "execution_count": 28,
   "id": "02c318d7",
   "metadata": {},
   "outputs": [
    {
     "data": {
      "text/plain": [
       "type"
      ]
     },
     "execution_count": 28,
     "metadata": {},
     "output_type": "execute_result"
    }
   ],
   "source": [
    "type(type(6 % 4))"
   ]
  },
  {
   "cell_type": "code",
   "execution_count": 29,
   "id": "e9af3ffc",
   "metadata": {},
   "outputs": [
    {
     "ename": "TypeError",
     "evalue": "can only concatenate str (not \"int\") to str",
     "output_type": "error",
     "traceback": [
      "\u001b[0;31m---------------------------------------------------------------------------\u001b[0m",
      "\u001b[0;31mTypeError\u001b[0m                                 Traceback (most recent call last)",
      "\u001b[0;32m/var/folders/lp/pxhhvyv90vx8hwbv8yjldhj80000gn/T/ipykernel_98353/2356142381.py\u001b[0m in \u001b[0;36m<module>\u001b[0;34m\u001b[0m\n\u001b[0;32m----> 1\u001b[0;31m \u001b[0;34m'3 + 4 is '\u001b[0m \u001b[0;34m+\u001b[0m \u001b[0;36m3\u001b[0m \u001b[0;34m+\u001b[0m \u001b[0;36m4\u001b[0m\u001b[0;34m\u001b[0m\u001b[0;34m\u001b[0m\u001b[0m\n\u001b[0m",
      "\u001b[0;31mTypeError\u001b[0m: can only concatenate str (not \"int\") to str"
     ]
    }
   ],
   "source": [
    "'3 + 4 is ' + 3 + 4"
   ]
  },
  {
   "cell_type": "code",
   "execution_count": 30,
   "id": "90d0fa9e",
   "metadata": {},
   "outputs": [
    {
     "data": {
      "text/plain": [
       "False"
      ]
     },
     "execution_count": 30,
     "metadata": {},
     "output_type": "execute_result"
    }
   ],
   "source": [
    "0 < 0\n"
   ]
  },
  {
   "cell_type": "code",
   "execution_count": 31,
   "id": "7bed80bb",
   "metadata": {},
   "outputs": [
    {
     "data": {
      "text/plain": [
       "False"
      ]
     },
     "execution_count": 31,
     "metadata": {},
     "output_type": "execute_result"
    }
   ],
   "source": [
    "'False' == False"
   ]
  },
  {
   "cell_type": "code",
   "execution_count": 32,
   "id": "c6615722",
   "metadata": {},
   "outputs": [
    {
     "data": {
      "text/plain": [
       "False"
      ]
     },
     "execution_count": 32,
     "metadata": {},
     "output_type": "execute_result"
    }
   ],
   "source": [
    "True == 'True'"
   ]
  },
  {
   "cell_type": "code",
   "execution_count": 33,
   "id": "59d1bfe4",
   "metadata": {},
   "outputs": [
    {
     "data": {
      "text/plain": [
       "True"
      ]
     },
     "execution_count": 33,
     "metadata": {},
     "output_type": "execute_result"
    }
   ],
   "source": [
    "5 >= -5"
   ]
  },
  {
   "cell_type": "code",
   "execution_count": 34,
   "id": "8a6f3495",
   "metadata": {},
   "outputs": [
    {
     "data": {
      "text/plain": [
       "True"
      ]
     },
     "execution_count": 34,
     "metadata": {},
     "output_type": "execute_result"
    }
   ],
   "source": [
    "True or \"42\""
   ]
  },
  {
   "cell_type": "code",
   "execution_count": 35,
   "id": "a9a09591",
   "metadata": {},
   "outputs": [
    {
     "data": {
      "text/plain": [
       "1"
      ]
     },
     "execution_count": 35,
     "metadata": {},
     "output_type": "execute_result"
    }
   ],
   "source": [
    "6 % 5"
   ]
  },
  {
   "cell_type": "code",
   "execution_count": 36,
   "id": "e2b2fbc1",
   "metadata": {},
   "outputs": [
    {
     "data": {
      "text/plain": [
       "False"
      ]
     },
     "execution_count": 36,
     "metadata": {},
     "output_type": "execute_result"
    }
   ],
   "source": [
    "5 < 4 and 1 == 1"
   ]
  },
  {
   "cell_type": "code",
   "execution_count": 37,
   "id": "3ae7e395",
   "metadata": {},
   "outputs": [
    {
     "data": {
      "text/plain": [
       "False"
      ]
     },
     "execution_count": 37,
     "metadata": {},
     "output_type": "execute_result"
    }
   ],
   "source": [
    "'codeup' == 'codeup' and 'codeup' == 'Codeup'"
   ]
  },
  {
   "cell_type": "code",
   "execution_count": 38,
   "id": "fae24da6",
   "metadata": {},
   "outputs": [
    {
     "ename": "SyntaxError",
     "evalue": "invalid syntax (383778220.py, line 1)",
     "output_type": "error",
     "traceback": [
      "\u001b[0;36m  File \u001b[0;32m\"/var/folders/lp/pxhhvyv90vx8hwbv8yjldhj80000gn/T/ipykernel_98353/383778220.py\"\u001b[0;36m, line \u001b[0;32m1\u001b[0m\n\u001b[0;31m    4 >= 0 and 1 !== '1'\u001b[0m\n\u001b[0m                   ^\u001b[0m\n\u001b[0;31mSyntaxError\u001b[0m\u001b[0;31m:\u001b[0m invalid syntax\n"
     ]
    }
   ],
   "source": [
    "4 >= 0 and 1 !== '1'"
   ]
  },
  {
   "cell_type": "code",
   "execution_count": 39,
   "id": "27ce8bbb",
   "metadata": {},
   "outputs": [
    {
     "data": {
      "text/plain": [
       "True"
      ]
     },
     "execution_count": 39,
     "metadata": {},
     "output_type": "execute_result"
    }
   ],
   "source": [
    "6 % 3 == 0"
   ]
  },
  {
   "cell_type": "code",
   "execution_count": 40,
   "id": "14bacdd1",
   "metadata": {},
   "outputs": [
    {
     "data": {
      "text/plain": [
       "True"
      ]
     },
     "execution_count": 40,
     "metadata": {},
     "output_type": "execute_result"
    }
   ],
   "source": [
    "5 % 2 != 0"
   ]
  },
  {
   "cell_type": "code",
   "execution_count": 41,
   "id": "5d9afd4b",
   "metadata": {},
   "outputs": [
    {
     "ename": "TypeError",
     "evalue": "can only concatenate list (not \"int\") to list",
     "output_type": "error",
     "traceback": [
      "\u001b[0;31m---------------------------------------------------------------------------\u001b[0m",
      "\u001b[0;31mTypeError\u001b[0m                                 Traceback (most recent call last)",
      "\u001b[0;32m/var/folders/lp/pxhhvyv90vx8hwbv8yjldhj80000gn/T/ipykernel_98353/685896815.py\u001b[0m in \u001b[0;36m<module>\u001b[0;34m\u001b[0m\n\u001b[0;32m----> 1\u001b[0;31m \u001b[0;34m[\u001b[0m\u001b[0;36m1\u001b[0m\u001b[0;34m]\u001b[0m \u001b[0;34m+\u001b[0m \u001b[0;36m2\u001b[0m\u001b[0;34m\u001b[0m\u001b[0;34m\u001b[0m\u001b[0m\n\u001b[0m",
      "\u001b[0;31mTypeError\u001b[0m: can only concatenate list (not \"int\") to list"
     ]
    }
   ],
   "source": [
    "[1] + 2"
   ]
  },
  {
   "cell_type": "code",
   "execution_count": 42,
   "id": "256c3873",
   "metadata": {},
   "outputs": [
    {
     "data": {
      "text/plain": [
       "[1, 2]"
      ]
     },
     "execution_count": 42,
     "metadata": {},
     "output_type": "execute_result"
    }
   ],
   "source": [
    "[1] + [2]"
   ]
  },
  {
   "cell_type": "code",
   "execution_count": 43,
   "id": "b5ed576e",
   "metadata": {},
   "outputs": [
    {
     "data": {
      "text/plain": [
       "[1, 1]"
      ]
     },
     "execution_count": 43,
     "metadata": {},
     "output_type": "execute_result"
    }
   ],
   "source": [
    "[1] * 2"
   ]
  },
  {
   "cell_type": "code",
   "execution_count": 44,
   "id": "a649aa00",
   "metadata": {},
   "outputs": [
    {
     "ename": "TypeError",
     "evalue": "can't multiply sequence by non-int of type 'list'",
     "output_type": "error",
     "traceback": [
      "\u001b[0;31m---------------------------------------------------------------------------\u001b[0m",
      "\u001b[0;31mTypeError\u001b[0m                                 Traceback (most recent call last)",
      "\u001b[0;32m/var/folders/lp/pxhhvyv90vx8hwbv8yjldhj80000gn/T/ipykernel_98353/2833680930.py\u001b[0m in \u001b[0;36m<module>\u001b[0;34m\u001b[0m\n\u001b[0;32m----> 1\u001b[0;31m \u001b[0;34m[\u001b[0m\u001b[0;36m1\u001b[0m\u001b[0;34m]\u001b[0m \u001b[0;34m*\u001b[0m \u001b[0;34m[\u001b[0m\u001b[0;36m2\u001b[0m\u001b[0;34m]\u001b[0m\u001b[0;34m\u001b[0m\u001b[0;34m\u001b[0m\u001b[0m\n\u001b[0m",
      "\u001b[0;31mTypeError\u001b[0m: can't multiply sequence by non-int of type 'list'"
     ]
    }
   ],
   "source": [
    "[1] * [2]"
   ]
  },
  {
   "cell_type": "code",
   "execution_count": 45,
   "id": "33a5d80b",
   "metadata": {},
   "outputs": [
    {
     "data": {
      "text/plain": [
       "True"
      ]
     },
     "execution_count": 45,
     "metadata": {},
     "output_type": "execute_result"
    }
   ],
   "source": [
    "[] + [] == []"
   ]
  },
  {
   "cell_type": "code",
   "execution_count": 46,
   "id": "7818d70b",
   "metadata": {},
   "outputs": [
    {
     "ename": "TypeError",
     "evalue": "unsupported operand type(s) for +: 'dict' and 'dict'",
     "output_type": "error",
     "traceback": [
      "\u001b[0;31m---------------------------------------------------------------------------\u001b[0m",
      "\u001b[0;31mTypeError\u001b[0m                                 Traceback (most recent call last)",
      "\u001b[0;32m/var/folders/lp/pxhhvyv90vx8hwbv8yjldhj80000gn/T/ipykernel_98353/1610617958.py\u001b[0m in \u001b[0;36m<module>\u001b[0;34m\u001b[0m\n\u001b[0;32m----> 1\u001b[0;31m \u001b[0;34m{\u001b[0m\u001b[0;34m}\u001b[0m \u001b[0;34m+\u001b[0m \u001b[0;34m{\u001b[0m\u001b[0;34m}\u001b[0m\u001b[0;34m\u001b[0m\u001b[0;34m\u001b[0m\u001b[0m\n\u001b[0m",
      "\u001b[0;31mTypeError\u001b[0m: unsupported operand type(s) for +: 'dict' and 'dict'"
     ]
    }
   ],
   "source": [
    "{} + {}"
   ]
  },
  {
   "cell_type": "markdown",
   "id": "bef08c7c",
   "metadata": {},
   "source": [
    "# #4\n",
    "You have rented some movies for your kids:\n",
    "\n",
    "The Little Mermaid for 3 days\n",
    "\n",
    "Brother Bear for 5 days\n",
    "\n",
    "Hercules for 1 day\n",
    "\n",
    "If the daily fee to rent a movie is 3 dollars, how much will you have to pay?"
   ]
  },
  {
   "cell_type": "code",
   "execution_count": 56,
   "id": "3ee3a82c",
   "metadata": {},
   "outputs": [
    {
     "data": {
      "text/plain": [
       "27"
      ]
     },
     "execution_count": 56,
     "metadata": {},
     "output_type": "execute_result"
    }
   ],
   "source": [
    "x = 3\n",
    "Little_Mermaid = 3\n",
    "Brother_Bear = 5\n",
    "Hercules = 1\n",
    "\n",
    "((Little_Mermaid * x) + (Brother_Bear * x) + (Hercules * x))"
   ]
  },
  {
   "cell_type": "markdown",
   "id": "f628c049",
   "metadata": {},
   "source": [
    "# #5\n",
    "Suppose you're working as a contractor for 3 companies: Google, Amazon and Facebook.\n",
    "\n",
    "They pay you the following hourly rates:\n",
    "\n",
    "Google: 400 dollars\n",
    "Amazon: 380 dollars\n",
    "Facebook: 350 dollars\n",
    "This week you worked: 10 hours for Facebook, 6 hours for Google and 4 hours for Amazon.\n",
    "\n",
    "How much will you receive in payment for this week?"
   ]
  },
  {
   "cell_type": "code",
   "execution_count": 57,
   "id": "8eeb7b42",
   "metadata": {},
   "outputs": [
    {
     "data": {
      "text/plain": [
       "7420"
      ]
     },
     "execution_count": 57,
     "metadata": {},
     "output_type": "execute_result"
    }
   ],
   "source": [
    "Google_pay = 400\n",
    "Amazon_pay = 380\n",
    "Facebook_pay = 350\n",
    "Google_hours = 6\n",
    "Amazon_hours = 4\n",
    "Facebook_hours = 10\n",
    "\n",
    "((Google_pay * Google_hours) + (Amazon_pay * Amazon_hours) + (Facebook_pay * Facebook_hours))"
   ]
  },
  {
   "cell_type": "markdown",
   "id": "f40c5910",
   "metadata": {},
   "source": [
    "# #6\n",
    "A student can be enrolled to a class only if the class is not full and the class schedule does not conflict with her current schedule."
   ]
  },
  {
   "cell_type": "code",
   "execution_count": 70,
   "id": "b3aa4354",
   "metadata": {},
   "outputs": [
    {
     "name": "stdout",
     "output_type": "stream",
     "text": [
      "True\n"
     ]
    }
   ],
   "source": [
    "student_enroll = True\n",
    "class_is_not_full = True\n",
    "class_is_full = False\n",
    "class_schedule_does_not_conflict = True\n",
    "class_schedule_does_conflict = False\n",
    "\n",
    "should_student_enroll = class_is_not_full and class_schedule_does_not_conflict\n",
    "\n",
    "print(should_student_enroll)"
   ]
  },
  {
   "cell_type": "markdown",
   "id": "bc756ff7",
   "metadata": {},
   "source": [
    "# #7\n",
    "A product offer can be applied only if people buys more than 2 items, and the offer has not expired. Premium members do not need to buy a specific amount of products."
   ]
  },
  {
   "cell_type": "code",
   "execution_count": 74,
   "id": "2c7b29e3",
   "metadata": {},
   "outputs": [
    {
     "name": "stdout",
     "output_type": "stream",
     "text": [
      "False\n"
     ]
    }
   ],
   "source": [
    "two_items_or_less = False\n",
    "two_items_or_more = True\n",
    "offer_expired = False\n",
    "offer_not_expired = True\n",
    "Premium_member = two_items_or_more\n",
    "\n",
    "Can_a_product_offer_be_applied = two_items_or_less and offer_not_expired\n",
    "\n",
    "print(Can_a_product_offer_be_applied)"
   ]
  },
  {
   "cell_type": "code",
   "execution_count": 77,
   "id": "6d573a67",
   "metadata": {},
   "outputs": [],
   "source": [
    "pre_mem = True\n",
    "more_than_two = True\n",
    "coup_not_expired = True"
   ]
  },
  {
   "cell_type": "code",
   "execution_count": 78,
   "id": "acb24d34",
   "metadata": {},
   "outputs": [
    {
     "data": {
      "text/plain": [
       "True"
      ]
     },
     "execution_count": 78,
     "metadata": {},
     "output_type": "execute_result"
    }
   ],
   "source": [
    "coup_not_expired and (more_than_two or pre_mem)"
   ]
  },
  {
   "cell_type": "markdown",
   "id": "42995a57",
   "metadata": {},
   "source": [
    "# #8\n",
    "Create a variable that holds a boolean value for each of the following conditions:\n",
    "\n",
    "The password must be at least 5 characters\n",
    "\n",
    "The username must be no more than 20 characters\n",
    "\n",
    "The password must not be the same as the username\n",
    "\n",
    "**Bonus Neither the username or password can start or end with whitespace\n",
    "username = 'codeup'\n",
    "password = 'notastrongpassword'"
   ]
  },
  {
   "cell_type": "code",
   "execution_count": 86,
   "id": "1721a8d6",
   "metadata": {},
   "outputs": [],
   "source": [
    "my_username = 'Andrew'\n",
    "my_password = 'Kimberly!'"
   ]
  },
  {
   "cell_type": "code",
   "execution_count": 90,
   "id": "cb2dda98",
   "metadata": {},
   "outputs": [],
   "source": [
    "check_1 = len(my_password) > 4"
   ]
  },
  {
   "cell_type": "code",
   "execution_count": 91,
   "id": "07813b78",
   "metadata": {},
   "outputs": [
    {
     "data": {
      "text/plain": [
       "True"
      ]
     },
     "execution_count": 91,
     "metadata": {},
     "output_type": "execute_result"
    }
   ],
   "source": [
    "check_1"
   ]
  },
  {
   "cell_type": "code",
   "execution_count": 88,
   "id": "80d9a858",
   "metadata": {},
   "outputs": [],
   "source": [
    "check_2 = len(my_username) <= 20"
   ]
  },
  {
   "cell_type": "code",
   "execution_count": 92,
   "id": "0dac09ef",
   "metadata": {},
   "outputs": [
    {
     "data": {
      "text/plain": [
       "True"
      ]
     },
     "execution_count": 92,
     "metadata": {},
     "output_type": "execute_result"
    }
   ],
   "source": [
    "check_2"
   ]
  },
  {
   "cell_type": "code",
   "execution_count": 89,
   "id": "7bc68759",
   "metadata": {},
   "outputs": [],
   "source": [
    "check_3 = my_username != my_password"
   ]
  },
  {
   "cell_type": "code",
   "execution_count": 93,
   "id": "a525701f",
   "metadata": {},
   "outputs": [
    {
     "data": {
      "text/plain": [
       "True"
      ]
     },
     "execution_count": 93,
     "metadata": {},
     "output_type": "execute_result"
    }
   ],
   "source": [
    "check_3"
   ]
  }
 ],
 "metadata": {
  "kernelspec": {
   "display_name": "Python 3 (ipykernel)",
   "language": "python",
   "name": "python3"
  },
  "language_info": {
   "codemirror_mode": {
    "name": "ipython",
    "version": 3
   },
   "file_extension": ".py",
   "mimetype": "text/x-python",
   "name": "python",
   "nbconvert_exporter": "python",
   "pygments_lexer": "ipython3",
   "version": "3.9.13"
  }
 },
 "nbformat": 4,
 "nbformat_minor": 5
}
