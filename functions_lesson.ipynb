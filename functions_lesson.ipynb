{
 "cells": [
  {
   "cell_type": "markdown",
   "id": "3baffd4f",
   "metadata": {},
   "source": [
    "# Functions"
   ]
  },
  {
   "cell_type": "markdown",
   "id": "9db1794f",
   "metadata": {},
   "source": [
    "What are they? generally code that takes in data, transforms it, and outputs new data"
   ]
  },
  {
   "cell_type": "markdown",
   "id": "1b8d633d",
   "metadata": {},
   "source": [
    "Why do we care? because we can use already made code to repeat the same block code over and over! "
   ]
  },
  {
   "cell_type": "markdown",
   "id": "6bc75031",
   "metadata": {},
   "source": [
    "generally interacting with two types\n",
    "- someone else's function\n",
    "- or a function that you create! "
   ]
  },
  {
   "cell_type": "markdown",
   "id": "919efd5d",
   "metadata": {},
   "source": [
    "note: functions always have those parenthesis at the end! "
   ]
  },
  {
   "cell_type": "markdown",
   "id": "1611775b",
   "metadata": {},
   "source": [
    "## built-in functions"
   ]
  },
  {
   "cell_type": "markdown",
   "id": "32914baa",
   "metadata": {},
   "source": [
    "#### some you may have already seen"
   ]
  },
  {
   "cell_type": "code",
   "execution_count": 1,
   "id": "967eae14",
   "metadata": {},
   "outputs": [],
   "source": [
    "#new list\n",
    "ls = [1,34,5245,3,23,13467,-2]"
   ]
  },
  {
   "cell_type": "code",
   "execution_count": 2,
   "id": "b1670d10",
   "metadata": {},
   "outputs": [
    {
     "name": "stdout",
     "output_type": "stream",
     "text": [
      "[1, 34, 5245, 3, 23, 13467, -2]\n"
     ]
    }
   ],
   "source": [
    "print(ls)"
   ]
  },
  {
   "cell_type": "code",
   "execution_count": 3,
   "id": "581c910b",
   "metadata": {},
   "outputs": [],
   "source": [
    "string = '    34.   '"
   ]
  },
  {
   "cell_type": "code",
   "execution_count": 14,
   "id": "9b33b2f7",
   "metadata": {},
   "outputs": [
    {
     "data": {
      "text/plain": [
       "'34.'"
      ]
     },
     "execution_count": 14,
     "metadata": {},
     "output_type": "execute_result"
    }
   ],
   "source": [
    "string.strip() # method, not a function"
   ]
  },
  {
   "cell_type": "code",
   "execution_count": 5,
   "id": "fb14307d",
   "metadata": {},
   "outputs": [
    {
     "data": {
      "text/plain": [
       "range(0, 100)"
      ]
     },
     "execution_count": 5,
     "metadata": {},
     "output_type": "execute_result"
    }
   ],
   "source": [
    "range(0,100)"
   ]
  },
  {
   "cell_type": "code",
   "execution_count": 6,
   "id": "057514db",
   "metadata": {},
   "outputs": [
    {
     "data": {
      "text/plain": [
       "[1, 34, 5245, 3, 23, 13467, -2]"
      ]
     },
     "execution_count": 6,
     "metadata": {},
     "output_type": "execute_result"
    }
   ],
   "source": [
    "ls"
   ]
  },
  {
   "cell_type": "code",
   "execution_count": 7,
   "id": "b1134eb2",
   "metadata": {},
   "outputs": [
    {
     "data": {
      "text/plain": [
       "13467"
      ]
     },
     "execution_count": 7,
     "metadata": {},
     "output_type": "execute_result"
    }
   ],
   "source": [
    "max(ls)"
   ]
  },
  {
   "cell_type": "code",
   "execution_count": 8,
   "id": "b2e4b937",
   "metadata": {},
   "outputs": [
    {
     "data": {
      "text/plain": [
       "18771"
      ]
     },
     "execution_count": 8,
     "metadata": {},
     "output_type": "execute_result"
    }
   ],
   "source": [
    "sum(ls)"
   ]
  },
  {
   "cell_type": "code",
   "execution_count": 9,
   "id": "78701779",
   "metadata": {},
   "outputs": [],
   "source": [
    "ls.sort() "
   ]
  },
  {
   "cell_type": "code",
   "execution_count": 10,
   "id": "e997f28e",
   "metadata": {},
   "outputs": [
    {
     "data": {
      "text/plain": [
       "7"
      ]
     },
     "execution_count": 10,
     "metadata": {},
     "output_type": "execute_result"
    }
   ],
   "source": [
    "len(ls)"
   ]
  },
  {
   "cell_type": "code",
   "execution_count": 15,
   "id": "abf6c4aa",
   "metadata": {},
   "outputs": [
    {
     "data": {
      "text/plain": [
       "2681.5714285714284"
      ]
     },
     "execution_count": 15,
     "metadata": {},
     "output_type": "execute_result"
    }
   ],
   "source": [
    "avg_ls = sum(ls) / len(ls)\n",
    "avg_ls"
   ]
  },
  {
   "cell_type": "code",
   "execution_count": 17,
   "id": "1d6a4da6",
   "metadata": {},
   "outputs": [],
   "source": [
    "avg_ls = round(sum(ls)/len(ls), 2)"
   ]
  },
  {
   "cell_type": "code",
   "execution_count": 18,
   "id": "0672b622",
   "metadata": {},
   "outputs": [
    {
     "data": {
      "text/plain": [
       "2681.57"
      ]
     },
     "execution_count": 18,
     "metadata": {},
     "output_type": "execute_result"
    }
   ],
   "source": [
    "avg_ls"
   ]
  },
  {
   "cell_type": "code",
   "execution_count": null,
   "id": "18a2f8d9",
   "metadata": {},
   "outputs": [],
   "source": []
  },
  {
   "cell_type": "code",
   "execution_count": null,
   "id": "d2ab6098",
   "metadata": {},
   "outputs": [],
   "source": []
  },
  {
   "cell_type": "code",
   "execution_count": null,
   "id": "0c0fbadf",
   "metadata": {},
   "outputs": [],
   "source": []
  },
  {
   "cell_type": "markdown",
   "id": "37db4ad7",
   "metadata": {},
   "source": [
    "#### troubleshooting errors"
   ]
  },
  {
   "cell_type": "code",
   "execution_count": 19,
   "id": "bc5754bb",
   "metadata": {},
   "outputs": [
    {
     "data": {
      "text/plain": [
       "<function len(obj, /)>"
      ]
     },
     "execution_count": 19,
     "metadata": {},
     "output_type": "execute_result"
    }
   ],
   "source": [
    "len"
   ]
  },
  {
   "cell_type": "code",
   "execution_count": 20,
   "id": "e2797525",
   "metadata": {},
   "outputs": [
    {
     "ename": "TypeError",
     "evalue": "len() takes exactly one argument (0 given)",
     "output_type": "error",
     "traceback": [
      "\u001b[0;31m---------------------------------------------------------------------------\u001b[0m",
      "\u001b[0;31mTypeError\u001b[0m                                 Traceback (most recent call last)",
      "\u001b[0;32m/var/folders/lp/pxhhvyv90vx8hwbv8yjldhj80000gn/T/ipykernel_4603/3175031574.py\u001b[0m in \u001b[0;36m<module>\u001b[0;34m\u001b[0m\n\u001b[0;32m----> 1\u001b[0;31m \u001b[0mlen\u001b[0m\u001b[0;34m(\u001b[0m\u001b[0;34m)\u001b[0m\u001b[0;34m\u001b[0m\u001b[0;34m\u001b[0m\u001b[0m\n\u001b[0m",
      "\u001b[0;31mTypeError\u001b[0m: len() takes exactly one argument (0 given)"
     ]
    }
   ],
   "source": [
    "len()"
   ]
  },
  {
   "cell_type": "code",
   "execution_count": 21,
   "id": "74e37efd",
   "metadata": {},
   "outputs": [
    {
     "data": {
      "text/plain": [
       "7"
      ]
     },
     "execution_count": 21,
     "metadata": {},
     "output_type": "execute_result"
    }
   ],
   "source": [
    "len(ls)"
   ]
  },
  {
   "cell_type": "markdown",
   "id": "23919c73",
   "metadata": {},
   "source": [
    "## make our own functions!\n",
    "\n",
    "1. first define the function (create it)\n",
    "2. then call the function (access it)"
   ]
  },
  {
   "cell_type": "markdown",
   "id": "aae3ba1f",
   "metadata": {},
   "source": [
    "#### define a function"
   ]
  },
  {
   "cell_type": "code",
   "execution_count": null,
   "id": "19f12c2a",
   "metadata": {},
   "outputs": [],
   "source": [
    "# FORMAT:\n",
    "# def [function_name]([input]):   ## define = create\n",
    "#     return [output_usually_transformed_input]    ## call the function\n",
    "\n",
    "\n",
    "\n"
   ]
  },
  {
   "cell_type": "code",
   "execution_count": 25,
   "id": "ffb956d2",
   "metadata": {},
   "outputs": [],
   "source": [
    "#create a function that adds one every time\n",
    "def add_one(input_variable):\n",
    "    '''\n",
    "    takes a number and adds one to it\n",
    "    '''\n",
    "    return input_variable +1"
   ]
  },
  {
   "cell_type": "markdown",
   "id": "103adadf",
   "metadata": {},
   "source": [
    "what happening in the above code?\n",
    " - defining my function called 'add_one'\n",
    " - accepting an input and labeling 'input_variable'\n",
    " - return that input_variable with 1 added to it"
   ]
  },
  {
   "cell_type": "markdown",
   "id": "cabbfada",
   "metadata": {},
   "source": [
    "note:\n",
    "- all we have done so far is define our function\n",
    "- nothing is executing"
   ]
  },
  {
   "cell_type": "markdown",
   "id": "5837c94b",
   "metadata": {},
   "source": [
    "#### call the function we created"
   ]
  },
  {
   "cell_type": "code",
   "execution_count": null,
   "id": "b7940b27",
   "metadata": {},
   "outputs": [],
   "source": [
    "# FORMAT:\n",
    "# [function_name]([input])\n"
   ]
  },
  {
   "cell_type": "code",
   "execution_count": 23,
   "id": "321378fb",
   "metadata": {},
   "outputs": [
    {
     "data": {
      "text/plain": [
       "11"
      ]
     },
     "execution_count": 23,
     "metadata": {},
     "output_type": "execute_result"
    }
   ],
   "source": [
    "add_one(10)"
   ]
  },
  {
   "cell_type": "code",
   "execution_count": 24,
   "id": "11bdcb84",
   "metadata": {},
   "outputs": [
    {
     "data": {
      "text/plain": [
       "16"
      ]
     },
     "execution_count": 24,
     "metadata": {},
     "output_type": "execute_result"
    }
   ],
   "source": [
    "add_one(15)"
   ]
  },
  {
   "cell_type": "code",
   "execution_count": 26,
   "id": "1410d9e5",
   "metadata": {},
   "outputs": [],
   "source": [
    "add_one?"
   ]
  },
  {
   "cell_type": "code",
   "execution_count": null,
   "id": "2da7333b",
   "metadata": {},
   "outputs": [],
   "source": [
    "# wont work with a string"
   ]
  },
  {
   "cell_type": "code",
   "execution_count": 27,
   "id": "24348e45",
   "metadata": {},
   "outputs": [
    {
     "data": {
      "text/plain": [
       "8"
      ]
     },
     "execution_count": 27,
     "metadata": {},
     "output_type": "execute_result"
    }
   ],
   "source": [
    "#nest the function\n",
    "add_one(add_one(add_one(5))) #executing from inside to out"
   ]
  },
  {
   "cell_type": "markdown",
   "id": "1a732293",
   "metadata": {},
   "source": [
    "#### look at the input variable"
   ]
  },
  {
   "cell_type": "code",
   "execution_count": 28,
   "id": "7f7eaa75",
   "metadata": {},
   "outputs": [
    {
     "ename": "NameError",
     "evalue": "name 'input_variable' is not defined",
     "output_type": "error",
     "traceback": [
      "\u001b[0;31m---------------------------------------------------------------------------\u001b[0m",
      "\u001b[0;31mNameError\u001b[0m                                 Traceback (most recent call last)",
      "\u001b[0;32m/var/folders/lp/pxhhvyv90vx8hwbv8yjldhj80000gn/T/ipykernel_4603/2128625808.py\u001b[0m in \u001b[0;36m<module>\u001b[0;34m\u001b[0m\n\u001b[0;32m----> 1\u001b[0;31m \u001b[0minput_variable\u001b[0m\u001b[0;34m\u001b[0m\u001b[0;34m\u001b[0m\u001b[0m\n\u001b[0m",
      "\u001b[0;31mNameError\u001b[0m: name 'input_variable' is not defined"
     ]
    }
   ],
   "source": [
    "input_variable #variable from function doesn't exist as an independent variable. it exists only within the function"
   ]
  },
  {
   "cell_type": "markdown",
   "id": "df0b44c3",
   "metadata": {},
   "source": [
    "### printing vs returning vs nothing in functions"
   ]
  },
  {
   "cell_type": "markdown",
   "id": "89cdd219",
   "metadata": {},
   "source": [
    "#### define em"
   ]
  },
  {
   "cell_type": "code",
   "execution_count": 33,
   "id": "726733f6",
   "metadata": {},
   "outputs": [],
   "source": [
    "def add_one_return(i):\n",
    "    return i + 1"
   ]
  },
  {
   "cell_type": "code",
   "execution_count": 34,
   "id": "ca1a6f6d",
   "metadata": {},
   "outputs": [],
   "source": [
    "def add_one_print(i):\n",
    "    print (i + 1)"
   ]
  },
  {
   "cell_type": "code",
   "execution_count": 35,
   "id": "e41f56bd",
   "metadata": {},
   "outputs": [],
   "source": [
    "def add_one_none(i):\n",
    "    i+1"
   ]
  },
  {
   "cell_type": "markdown",
   "id": "792ede87",
   "metadata": {},
   "source": [
    "#### call em"
   ]
  },
  {
   "cell_type": "code",
   "execution_count": 31,
   "id": "19a1d91f",
   "metadata": {},
   "outputs": [
    {
     "data": {
      "text/plain": [
       "6"
      ]
     },
     "execution_count": 31,
     "metadata": {},
     "output_type": "execute_result"
    }
   ],
   "source": [
    "add_one_return(5)"
   ]
  },
  {
   "cell_type": "code",
   "execution_count": 36,
   "id": "e797d61f",
   "metadata": {},
   "outputs": [
    {
     "name": "stdout",
     "output_type": "stream",
     "text": [
      "6\n"
     ]
    }
   ],
   "source": [
    "add_one_print(5)"
   ]
  },
  {
   "cell_type": "code",
   "execution_count": 37,
   "id": "8d985dfc",
   "metadata": {},
   "outputs": [],
   "source": [
    "add_one_none (5)"
   ]
  },
  {
   "cell_type": "markdown",
   "id": "11e9d59f",
   "metadata": {},
   "source": [
    "questions:\n",
    "- return and print look the same, are they?\n",
    "- why does add_one_none return nothing?"
   ]
  },
  {
   "cell_type": "markdown",
   "id": "457cb0fb",
   "metadata": {},
   "source": [
    "#### investigate"
   ]
  },
  {
   "cell_type": "code",
   "execution_count": 38,
   "id": "83415245",
   "metadata": {},
   "outputs": [],
   "source": [
    "new_var_return = add_one_return(5)"
   ]
  },
  {
   "cell_type": "code",
   "execution_count": 39,
   "id": "552ba2f2",
   "metadata": {},
   "outputs": [
    {
     "data": {
      "text/plain": [
       "6"
      ]
     },
     "execution_count": 39,
     "metadata": {},
     "output_type": "execute_result"
    }
   ],
   "source": [
    "new_var_return"
   ]
  },
  {
   "cell_type": "code",
   "execution_count": 40,
   "id": "5409e5a7",
   "metadata": {},
   "outputs": [
    {
     "name": "stdout",
     "output_type": "stream",
     "text": [
      "6\n"
     ]
    }
   ],
   "source": [
    "new_var_print = add_one_print(5)"
   ]
  },
  {
   "cell_type": "markdown",
   "id": "2b68c15f",
   "metadata": {},
   "source": [
    "new_var_print"
   ]
  },
  {
   "cell_type": "code",
   "execution_count": 41,
   "id": "af2cb59b",
   "metadata": {},
   "outputs": [
    {
     "data": {
      "text/plain": [
       "NoneType"
      ]
     },
     "execution_count": 41,
     "metadata": {},
     "output_type": "execute_result"
    }
   ],
   "source": [
    "type(new_var_print)"
   ]
  },
  {
   "cell_type": "code",
   "execution_count": null,
   "id": "7193c94e",
   "metadata": {},
   "outputs": [],
   "source": [
    "# here we are saving a print statment in the variable, were a return statement outputs transformed data"
   ]
  },
  {
   "cell_type": "code",
   "execution_count": 43,
   "id": "33e0b071",
   "metadata": {},
   "outputs": [],
   "source": [
    "new_var_print #hince nothing returns"
   ]
  },
  {
   "cell_type": "code",
   "execution_count": 45,
   "id": "f50711ea",
   "metadata": {},
   "outputs": [
    {
     "ename": "NameError",
     "evalue": "name 'new_var_none' is not defined",
     "output_type": "error",
     "traceback": [
      "\u001b[0;31m---------------------------------------------------------------------------\u001b[0m",
      "\u001b[0;31mNameError\u001b[0m                                 Traceback (most recent call last)",
      "\u001b[0;32m/var/folders/lp/pxhhvyv90vx8hwbv8yjldhj80000gn/T/ipykernel_4603/4222448972.py\u001b[0m in \u001b[0;36m<module>\u001b[0;34m\u001b[0m\n\u001b[0;32m----> 1\u001b[0;31m \u001b[0mnew_var_none\u001b[0m\u001b[0;34m\u001b[0m\u001b[0;34m\u001b[0m\u001b[0m\n\u001b[0m",
      "\u001b[0;31mNameError\u001b[0m: name 'new_var_none' is not defined"
     ]
    }
   ],
   "source": [
    "new_var_none"
   ]
  },
  {
   "cell_type": "code",
   "execution_count": 47,
   "id": "0792fd1d",
   "metadata": {},
   "outputs": [
    {
     "data": {
      "text/plain": [
       "600"
      ]
     },
     "execution_count": 47,
     "metadata": {},
     "output_type": "execute_result"
    }
   ],
   "source": [
    "new_var_return * 100"
   ]
  },
  {
   "cell_type": "code",
   "execution_count": 48,
   "id": "0a0f5111",
   "metadata": {},
   "outputs": [],
   "source": [
    "return_variable2 = add_one_return(10)"
   ]
  },
  {
   "cell_type": "code",
   "execution_count": 49,
   "id": "2dd52cb0",
   "metadata": {},
   "outputs": [
    {
     "data": {
      "text/plain": [
       "11"
      ]
     },
     "execution_count": 49,
     "metadata": {},
     "output_type": "execute_result"
    }
   ],
   "source": [
    "return_variable2 #assigns new variable with the value from our function add_one to 10"
   ]
  },
  {
   "cell_type": "markdown",
   "id": "ee003c5c",
   "metadata": {},
   "source": [
    "### lets make it more complex"
   ]
  },
  {
   "cell_type": "markdown",
   "id": "36e99e18",
   "metadata": {},
   "source": [
    "#### ex. let's create a function that takes in a string, uppercases everything and then adds 3 exclamation points  "
   ]
  },
  {
   "cell_type": "markdown",
   "id": "a04d0475",
   "metadata": {},
   "source": [
    "best practice for creating functions\n",
    "1. get your code working outside of the function first\n",
    "2. once your code is working correctly, then define it as a function\n",
    "3. call and test your function"
   ]
  },
  {
   "cell_type": "markdown",
   "id": "eaaec7b0",
   "metadata": {},
   "source": [
    "#### 1. get your code working outside of the function first"
   ]
  },
  {
   "cell_type": "code",
   "execution_count": 53,
   "id": "aa080a25",
   "metadata": {},
   "outputs": [],
   "source": [
    "string = 'hello pagel class'"
   ]
  },
  {
   "cell_type": "code",
   "execution_count": 54,
   "id": "ca826882",
   "metadata": {},
   "outputs": [
    {
     "data": {
      "text/plain": [
       "'HELLO PAGEL CLASS'"
      ]
     },
     "execution_count": 54,
     "metadata": {},
     "output_type": "execute_result"
    }
   ],
   "source": [
    "string = string.upper()\n",
    "string"
   ]
  },
  {
   "cell_type": "code",
   "execution_count": 55,
   "id": "79a7feef",
   "metadata": {},
   "outputs": [],
   "source": [
    "#.append for a list"
   ]
  },
  {
   "cell_type": "code",
   "execution_count": 56,
   "id": "b9fbd6d9",
   "metadata": {},
   "outputs": [
    {
     "data": {
      "text/plain": [
       "'HELLO PAGEL CLASS!!!'"
      ]
     },
     "execution_count": 56,
     "metadata": {},
     "output_type": "execute_result"
    }
   ],
   "source": [
    "string + '!!!'"
   ]
  },
  {
   "cell_type": "markdown",
   "id": "390a2102",
   "metadata": {},
   "source": [
    "#### 2. once your code is working correctly, then define it as a function"
   ]
  },
  {
   "cell_type": "code",
   "execution_count": 58,
   "id": "a01aa5f7",
   "metadata": {},
   "outputs": [],
   "source": [
    "def loud_string (input_string):\n",
    "    string = input_string.upper() #make sure you input variable matches\n",
    "    # the variable inside your function\n",
    "    input_string = input_string + '!!!'\n",
    "    return input_string #all i need to outut is my single"
   ]
  },
  {
   "cell_type": "markdown",
   "id": "9cc975ee",
   "metadata": {},
   "source": [
    "#### 3. call and test your function"
   ]
  },
  {
   "cell_type": "code",
   "execution_count": 59,
   "id": "6bff5eae",
   "metadata": {},
   "outputs": [
    {
     "data": {
      "text/plain": [
       "'how are you!!!'"
      ]
     },
     "execution_count": 59,
     "metadata": {},
     "output_type": "execute_result"
    }
   ],
   "source": [
    "loud_string('how are you')"
   ]
  },
  {
   "cell_type": "code",
   "execution_count": 60,
   "id": "a507e3a6",
   "metadata": {},
   "outputs": [
    {
     "data": {
      "text/plain": [
       "'its raining!!!'"
      ]
     },
     "execution_count": 60,
     "metadata": {},
     "output_type": "execute_result"
    }
   ],
   "source": [
    "loud_string('its raining')"
   ]
  },
  {
   "cell_type": "code",
   "execution_count": 62,
   "id": "45b8f951",
   "metadata": {},
   "outputs": [
    {
     "data": {
      "text/plain": [
       "\"it's raining!!!\""
      ]
     },
     "execution_count": 62,
     "metadata": {},
     "output_type": "execute_result"
    }
   ],
   "source": [
    "loud_string('it\\'s raining')"
   ]
  },
  {
   "cell_type": "code",
   "execution_count": 63,
   "id": "82ad3f91",
   "metadata": {},
   "outputs": [
    {
     "data": {
      "text/plain": [
       "\"it's raining!!!\""
      ]
     },
     "execution_count": 63,
     "metadata": {},
     "output_type": "execute_result"
    }
   ],
   "source": [
    "loud_string(\"it's raining\")"
   ]
  },
  {
   "cell_type": "code",
   "execution_count": 61,
   "id": "b17cc699",
   "metadata": {},
   "outputs": [
    {
     "ename": "NameError",
     "evalue": "name 'input_string' is not defined",
     "output_type": "error",
     "traceback": [
      "\u001b[0;31m---------------------------------------------------------------------------\u001b[0m",
      "\u001b[0;31mNameError\u001b[0m                                 Traceback (most recent call last)",
      "\u001b[0;32m/var/folders/lp/pxhhvyv90vx8hwbv8yjldhj80000gn/T/ipykernel_4603/2314305298.py\u001b[0m in \u001b[0;36m<module>\u001b[0;34m\u001b[0m\n\u001b[0;32m----> 1\u001b[0;31m \u001b[0minput_string\u001b[0m\u001b[0;34m\u001b[0m\u001b[0;34m\u001b[0m\u001b[0m\n\u001b[0m",
      "\u001b[0;31mNameError\u001b[0m: name 'input_string' is not defined"
     ]
    }
   ],
   "source": [
    "input_string # it doesn't exist outside the function"
   ]
  },
  {
   "cell_type": "markdown",
   "id": "31f5953d",
   "metadata": {},
   "source": [
    "### arguments"
   ]
  },
  {
   "cell_type": "markdown",
   "id": "7910c606",
   "metadata": {},
   "source": [
    "-- argument: the value a function is called with"
   ]
  },
  {
   "cell_type": "markdown",
   "id": "616e6329",
   "metadata": {},
   "source": [
    "#### multiples"
   ]
  },
  {
   "cell_type": "code",
   "execution_count": null,
   "id": "1380edab",
   "metadata": {},
   "outputs": [],
   "source": [
    "# def add_things(a,b): #takes two arguments\n",
    "#     result = a + b\n",
    "#     return result"
   ]
  },
  {
   "cell_type": "code",
   "execution_count": 64,
   "id": "d9f907fd",
   "metadata": {},
   "outputs": [],
   "source": [
    "def add_things (a,b): #take two arguments\n",
    "    result = a + b\n",
    "    return result"
   ]
  },
  {
   "cell_type": "code",
   "execution_count": 65,
   "id": "3494e453",
   "metadata": {},
   "outputs": [
    {
     "data": {
      "text/plain": [
       "15"
      ]
     },
     "execution_count": 65,
     "metadata": {},
     "output_type": "execute_result"
    }
   ],
   "source": [
    "add_things(5,10) #arguments are 5 and 10"
   ]
  },
  {
   "cell_type": "code",
   "execution_count": 66,
   "id": "28ccf9ff",
   "metadata": {},
   "outputs": [
    {
     "data": {
      "text/plain": [
       "45"
      ]
     },
     "execution_count": 66,
     "metadata": {},
     "output_type": "execute_result"
    }
   ],
   "source": [
    "add_things(20,25)"
   ]
  },
  {
   "cell_type": "code",
   "execution_count": 67,
   "id": "f9677d7a",
   "metadata": {},
   "outputs": [
    {
     "data": {
      "text/plain": [
       "'hellopagel'"
      ]
     },
     "execution_count": 67,
     "metadata": {},
     "output_type": "execute_result"
    }
   ],
   "source": [
    "add_things('hello','pagel')"
   ]
  },
  {
   "cell_type": "code",
   "execution_count": null,
   "id": "b3f4c7b9",
   "metadata": {},
   "outputs": [],
   "source": []
  },
  {
   "cell_type": "markdown",
   "id": "4168eb7c",
   "metadata": {},
   "source": [
    "#### position matters"
   ]
  },
  {
   "cell_type": "code",
   "execution_count": 68,
   "id": "3ff6d476",
   "metadata": {},
   "outputs": [],
   "source": [
    "def do_things(a,b):\n",
    "    a = a + 1\n",
    "    b = b * -1000\n",
    "    return a,b"
   ]
  },
  {
   "cell_type": "code",
   "execution_count": 69,
   "id": "bd23c91d",
   "metadata": {},
   "outputs": [
    {
     "data": {
      "text/plain": [
       "(6, -10000)"
      ]
     },
     "execution_count": 69,
     "metadata": {},
     "output_type": "execute_result"
    }
   ],
   "source": [
    "do_things(5,10)"
   ]
  },
  {
   "cell_type": "code",
   "execution_count": 70,
   "id": "02742c71",
   "metadata": {},
   "outputs": [],
   "source": [
    "# 5 corresponds to the a variable since it was sent in first\n",
    "# 10 corresponds to the b variable since it was sent in second"
   ]
  },
  {
   "cell_type": "markdown",
   "id": "e6a4651d",
   "metadata": {},
   "source": [
    "#### kwargs (keyword arguments)"
   ]
  },
  {
   "cell_type": "code",
   "execution_count": 71,
   "id": "52e54b6d",
   "metadata": {},
   "outputs": [
    {
     "data": {
      "text/plain": [
       "(11, -5000)"
      ]
     },
     "execution_count": 71,
     "metadata": {},
     "output_type": "execute_result"
    }
   ],
   "source": [
    "#call do_things by keyword\n",
    "do_things(b=5, a=10)"
   ]
  },
  {
   "cell_type": "code",
   "execution_count": 72,
   "id": "e6ac8a14",
   "metadata": {},
   "outputs": [
    {
     "data": {
      "text/plain": [
       "(11, -5000)"
      ]
     },
     "execution_count": 72,
     "metadata": {},
     "output_type": "execute_result"
    }
   ],
   "source": [
    "do_things(a=10, b=5)"
   ]
  },
  {
   "cell_type": "markdown",
   "id": "767a781b",
   "metadata": {},
   "source": [
    "#### default values"
   ]
  },
  {
   "cell_type": "code",
   "execution_count": 73,
   "id": "4cfdd790",
   "metadata": {},
   "outputs": [],
   "source": [
    "def do_things_extra(a=200, b=5): #defining default values\n",
    "    a = a + 1\n",
    "    b = b * -1000\n",
    "    return(a,b)"
   ]
  },
  {
   "cell_type": "code",
   "execution_count": 80,
   "id": "b4810105",
   "metadata": {},
   "outputs": [
    {
     "data": {
      "text/plain": [
       "(201, -5000)"
      ]
     },
     "execution_count": 80,
     "metadata": {},
     "output_type": "execute_result"
    }
   ],
   "source": [
    "do_things_extra()"
   ]
  },
  {
   "cell_type": "code",
   "execution_count": 81,
   "id": "125db0a2",
   "metadata": {},
   "outputs": [
    {
     "data": {
      "text/plain": [
       "(11, -10000)"
      ]
     },
     "execution_count": 81,
     "metadata": {},
     "output_type": "execute_result"
    }
   ],
   "source": [
    "do_things_extra(10, 10)"
   ]
  },
  {
   "cell_type": "code",
   "execution_count": null,
   "id": "c65ff749",
   "metadata": {},
   "outputs": [],
   "source": []
  },
  {
   "cell_type": "markdown",
   "id": "26395a8e",
   "metadata": {},
   "source": [
    "#### unpacking arguments"
   ]
  },
  {
   "cell_type": "code",
   "execution_count": 82,
   "id": "f6a226f7",
   "metadata": {},
   "outputs": [],
   "source": [
    "#by list\n",
    "args = [5,10]"
   ]
  },
  {
   "cell_type": "code",
   "execution_count": 83,
   "id": "bf2f6c03",
   "metadata": {},
   "outputs": [
    {
     "data": {
      "text/plain": [
       "(6, -10000)"
      ]
     },
     "execution_count": 83,
     "metadata": {},
     "output_type": "execute_result"
    }
   ],
   "source": [
    "do_things(*args)"
   ]
  },
  {
   "cell_type": "code",
   "execution_count": null,
   "id": "c3e7f9cf",
   "metadata": {},
   "outputs": [],
   "source": []
  },
  {
   "cell_type": "code",
   "execution_count": 84,
   "id": "1b62cdbb",
   "metadata": {},
   "outputs": [],
   "source": [
    "#by dictionary\n",
    "def do_things(a,b):\n",
    "    a = a + 1\n",
    "    b = b * -1000\n",
    "    return a,b"
   ]
  },
  {
   "cell_type": "code",
   "execution_count": 85,
   "id": "c7d1c2f5",
   "metadata": {},
   "outputs": [],
   "source": [
    "kwargs = {'b':50, 'a':2}"
   ]
  },
  {
   "cell_type": "code",
   "execution_count": 86,
   "id": "f7838824",
   "metadata": {},
   "outputs": [
    {
     "data": {
      "text/plain": [
       "(3, -50000)"
      ]
     },
     "execution_count": 86,
     "metadata": {},
     "output_type": "execute_result"
    }
   ],
   "source": [
    "do_things(**kwargs)"
   ]
  },
  {
   "cell_type": "markdown",
   "id": "4c2f7e32",
   "metadata": {},
   "source": [
    "- the ** allow us to unpack the dictionary by argument name"
   ]
  },
  {
   "cell_type": "markdown",
   "id": "1d0a38f4",
   "metadata": {},
   "source": [
    "### scope"
   ]
  },
  {
   "cell_type": "code",
   "execution_count": 87,
   "id": "522940c4",
   "metadata": {},
   "outputs": [],
   "source": [
    "outside_number = 10 "
   ]
  },
  {
   "cell_type": "code",
   "execution_count": 88,
   "id": "88eff03b",
   "metadata": {},
   "outputs": [
    {
     "name": "stdout",
     "output_type": "stream",
     "text": [
      "hello\n"
     ]
    }
   ],
   "source": [
    "def do_math(func_numb):\n",
    "    print(outside_number) #working as a global variable\n",
    "    print(func_numb)\n",
    "    \n",
    "print('hello') # not inside function, so it prints"
   ]
  },
  {
   "cell_type": "code",
   "execution_count": 89,
   "id": "efb6ad90",
   "metadata": {},
   "outputs": [
    {
     "name": "stdout",
     "output_type": "stream",
     "text": [
      "10\n",
      "5\n"
     ]
    }
   ],
   "source": [
    "do_math(5)"
   ]
  },
  {
   "cell_type": "code",
   "execution_count": 90,
   "id": "8ffbfa27",
   "metadata": {},
   "outputs": [
    {
     "data": {
      "text/plain": [
       "10"
      ]
     },
     "execution_count": 90,
     "metadata": {},
     "output_type": "execute_result"
    }
   ],
   "source": [
    "outside_number"
   ]
  },
  {
   "cell_type": "code",
   "execution_count": 91,
   "id": "4d91fe91",
   "metadata": {},
   "outputs": [
    {
     "ename": "NameError",
     "evalue": "name 'func_numb' is not defined",
     "output_type": "error",
     "traceback": [
      "\u001b[0;31m---------------------------------------------------------------------------\u001b[0m",
      "\u001b[0;31mNameError\u001b[0m                                 Traceback (most recent call last)",
      "\u001b[0;32m/var/folders/lp/pxhhvyv90vx8hwbv8yjldhj80000gn/T/ipykernel_4603/3435994784.py\u001b[0m in \u001b[0;36m<module>\u001b[0;34m\u001b[0m\n\u001b[0;32m----> 1\u001b[0;31m \u001b[0mfunc_numb\u001b[0m\u001b[0;34m\u001b[0m\u001b[0;34m\u001b[0m\u001b[0m\n\u001b[0m",
      "\u001b[0;31mNameError\u001b[0m: name 'func_numb' is not defined"
     ]
    }
   ],
   "source": [
    "func_numb #doesnt work because it is only in the function"
   ]
  },
  {
   "cell_type": "code",
   "execution_count": 92,
   "id": "6fc84842",
   "metadata": {},
   "outputs": [
    {
     "name": "stdout",
     "output_type": "stream",
     "text": [
      "10\n",
      "5\n"
     ]
    }
   ],
   "source": [
    "# SAVE TO A VARIABLE\n",
    "var_do_math = do_math(5)\n"
   ]
  },
  {
   "cell_type": "code",
   "execution_count": 93,
   "id": "e519c2ed",
   "metadata": {},
   "outputs": [],
   "source": [
    "var_do_math\n"
   ]
  },
  {
   "cell_type": "code",
   "execution_count": 95,
   "id": "ff1e14a2",
   "metadata": {},
   "outputs": [
    {
     "data": {
      "text/plain": [
       "NoneType"
      ]
     },
     "execution_count": 95,
     "metadata": {},
     "output_type": "execute_result"
    }
   ],
   "source": [
    "type (var_do_math) # there is nothing in the variable because there is no return statement in the function"
   ]
  },
  {
   "cell_type": "code",
   "execution_count": null,
   "id": "6b6c7b23",
   "metadata": {},
   "outputs": [],
   "source": []
  },
  {
   "cell_type": "markdown",
   "id": "5c008ef7",
   "metadata": {},
   "source": [
    "### lambda"
   ]
  },
  {
   "cell_type": "markdown",
   "id": "01079553",
   "metadata": {},
   "source": [
    "- a function that can be created in one line, when you have a one line return statement "
   ]
  },
  {
   "cell_type": "code",
   "execution_count": null,
   "id": "fe88bc14",
   "metadata": {},
   "outputs": [],
   "source": [
    "# FORMAT: \n",
    "# [function_name] = lambda [variable] : [transform_variable] "
   ]
  },
  {
   "cell_type": "code",
   "execution_count": 96,
   "id": "e0080e57",
   "metadata": {},
   "outputs": [],
   "source": [
    "# long way\n",
    "def add_one_try_again(n):\n",
    "    return n + 1"
   ]
  },
  {
   "cell_type": "code",
   "execution_count": 97,
   "id": "521f671d",
   "metadata": {},
   "outputs": [
    {
     "data": {
      "text/plain": [
       "6"
      ]
     },
     "execution_count": 97,
     "metadata": {},
     "output_type": "execute_result"
    }
   ],
   "source": [
    "add_one_try_again(5)"
   ]
  },
  {
   "cell_type": "code",
   "execution_count": 98,
   "id": "6c1919c0",
   "metadata": {},
   "outputs": [],
   "source": [
    "add_one_lambda = lambda n : n + 1"
   ]
  },
  {
   "cell_type": "code",
   "execution_count": 99,
   "id": "eec13eae",
   "metadata": {},
   "outputs": [
    {
     "data": {
      "text/plain": [
       "6"
      ]
     },
     "execution_count": 99,
     "metadata": {},
     "output_type": "execute_result"
    }
   ],
   "source": [
    "add_one_lambda(5)"
   ]
  },
  {
   "cell_type": "code",
   "execution_count": 100,
   "id": "6e62b6dd",
   "metadata": {},
   "outputs": [],
   "source": [
    "add_one_lambda2 = lambda n, x : n + 1*x"
   ]
  },
  {
   "cell_type": "code",
   "execution_count": 101,
   "id": "733b9fd1",
   "metadata": {},
   "outputs": [
    {
     "data": {
      "text/plain": [
       "15"
      ]
     },
     "execution_count": 101,
     "metadata": {},
     "output_type": "execute_result"
    }
   ],
   "source": [
    "add_one_lambda2 (5, 10)"
   ]
  },
  {
   "cell_type": "code",
   "execution_count": null,
   "id": "89b0f725",
   "metadata": {},
   "outputs": [],
   "source": []
  }
 ],
 "metadata": {
  "kernelspec": {
   "display_name": "Python 3 (ipykernel)",
   "language": "python",
   "name": "python3"
  },
  "language_info": {
   "codemirror_mode": {
    "name": "ipython",
    "version": 3
   },
   "file_extension": ".py",
   "mimetype": "text/x-python",
   "name": "python",
   "nbconvert_exporter": "python",
   "pygments_lexer": "ipython3",
   "version": "3.9.13"
  }
 },
 "nbformat": 4,
 "nbformat_minor": 5
}
